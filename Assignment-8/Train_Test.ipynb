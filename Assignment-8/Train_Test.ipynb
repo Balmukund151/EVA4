{
  "nbformat": 4,
  "nbformat_minor": 0,
  "metadata": {
    "colab": {
      "name": "Train_Test.ipynb",
      "provenance": [],
      "collapsed_sections": []
    },
    "kernelspec": {
      "name": "python3",
      "display_name": "Python 3"
    }
  },
  "cells": [
    {
      "cell_type": "code",
      "metadata": {
        "id": "Zd2a_kA3r3SC",
        "colab_type": "code",
        "colab": {}
      },
      "source": [
        "from tqdm import tqdm\n",
        "import torch.nn.functional as F\n",
        "import torch\n",
        "import torch.nn as nn"
      ],
      "execution_count": 0,
      "outputs": []
    },
    {
      "cell_type": "code",
      "metadata": {
        "id": "17TQrIt48T8_",
        "colab_type": "code",
        "colab": {}
      },
      "source": [
        "def train(model, device, train_loader, optimizer, epoch, isL1, train_acc, train_losses):\n",
        "  model.train()\n",
        "  pbar = tqdm(train_loader)\n",
        "  correct = 0\n",
        "  processed = 0\n",
        "  criterion = nn.CrossEntropyLoss()\n",
        "  for batch_idx, (data, target) in enumerate(pbar):\n",
        "    # get samples\n",
        "    data, target = data.to(device), target.to(device)\n",
        "    optimizer.zero_grad()\n",
        "    y_pred = model(data)\n",
        "    # Calculate loss\n",
        "    loss = criterion(y_pred, target)\n",
        "    #F.nll_loss(y_pred, target)\n",
        "    if isL1:\n",
        "      loss += compute_L1_Loss(model,data,factor=0.0005)\n",
        "    train_losses.append(loss)\n",
        "\n",
        "    # Backpropagation\n",
        "    loss.backward()\n",
        "    optimizer.step()\n",
        "    # Update pbar-tqdm\n",
        "    \n",
        "    pred = y_pred.argmax(dim=1, keepdim=True)  # get the index of the max log-probability\n",
        "    correct += pred.eq(target.view_as(pred)).sum().item()\n",
        "    processed += len(data)\n",
        "\n",
        "    pbar.set_description(desc= f'Loss={loss.item()} Batch_id={batch_idx} Accuracy={100*correct/processed:0.2f}')\n",
        "    train_acc.append(100*correct/processed)"
      ],
      "execution_count": 0,
      "outputs": []
    },
    {
      "cell_type": "code",
      "metadata": {
        "id": "203t921rsIKr",
        "colab_type": "code",
        "colab": {}
      },
      "source": [
        "def test(model, device, test_loader, test_acc, test_losses, misclassified_list):\n",
        "    model.eval()\n",
        "    test_loss = 0\n",
        "    correct = 0\n",
        "    criterion = nn.CrossEntropyLoss()\n",
        "    with torch.no_grad():\n",
        "        for data, target in test_loader:\n",
        "            i=len(misclassified_list)\n",
        "            orig_data=data.numpy()\n",
        "            data, target = data.to(device), target.to(device)\n",
        "            output = model(data)\n",
        "            test_loss += criterion(output, target).item()  # sum up batch loss\n",
        "            pred = output.argmax(dim=1, keepdim=True)  # get the index of the max log-probability\n",
        "            new_target=target.view_as(pred)\n",
        "            for x,y,z in zip(pred,new_target,orig_data):\n",
        "              if x!=y:\n",
        "                # print(\"type= {} {} \".format(x,y))\n",
        "                # print(\"Z\", z.shape)\n",
        "                misclassified_list[i]=[x,y,z]\n",
        "                i +=1\n",
        "            correct += pred.eq(target.view_as(pred)).sum().item()\n",
        "\n",
        "    test_loss /= len(test_loader.dataset)\n",
        "    test_losses.append(test_loss)\n",
        "\n",
        "    print('\\nTest set: Average loss: {:.4f}, Accuracy: {}/{} ({:.2f}%)\\n'.format(\n",
        "        test_loss, correct, len(test_loader.dataset),\n",
        "        100. * correct / len(test_loader.dataset)))\n",
        "    \n",
        "    test_acc.append(100. * correct / len(test_loader.dataset))"
      ],
      "execution_count": 0,
      "outputs": []
    },
    {
      "cell_type": "code",
      "metadata": {
        "id": "DotUJU0pty-W",
        "colab_type": "code",
        "colab": {}
      },
      "source": [
        "def compute_L1_Loss(model, data, factor=0.0005):\n",
        "  l1_crit = nn.L1Loss().to(device)\n",
        "  reg_loss = 0\n",
        "  for param in model.parameters():\n",
        "    zero_vector = torch.rand_like(param) * 0\n",
        "    reg_loss += l1_crit(param, zero_vector)\n",
        "  return factor * reg_loss"
      ],
      "execution_count": 0,
      "outputs": []
    }
  ]
}