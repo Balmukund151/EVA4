{
  "nbformat": 4,
  "nbformat_minor": 0,
  "metadata": {
    "colab": {
      "name": "Dataloaders.ipynb",
      "provenance": [],
      "collapsed_sections": []
    },
    "kernelspec": {
      "name": "python3",
      "display_name": "Python 3"
    }
  },
  "cells": [
    {
      "cell_type": "code",
      "metadata": {
        "id": "GSY4pkgrott0",
        "colab_type": "code",
        "colab": {}
      },
      "source": [
        "from torchvision import datasets,transforms\n",
        "import torch"
      ],
      "execution_count": 0,
      "outputs": []
    },
    {
      "cell_type": "code",
      "metadata": {
        "id": "JZbK2dLt8rji",
        "colab_type": "code",
        "colab": {}
      },
      "source": [
        "def train_test_dataloaders(seed, batch_size, workers,train_transforms,test_transforms):\n",
        "  \n",
        "  SEED = seed\n",
        "\n",
        "  # CUDA?\n",
        "  cuda = torch.cuda.is_available()\n",
        "  print(\"CUDA Available?\", cuda)\n",
        "\n",
        "  # For reproducibility\n",
        "  torch.manual_seed(SEED)\n",
        "\n",
        "  if cuda:\n",
        "      torch.cuda.manual_seed(SEED)\n",
        "\n",
        "  # dataloader arguments - something you'll fetch these from cmdprmt\n",
        "  dataloader_args = dict(shuffle=True, batch_size=batch_size, num_workers=workers, pin_memory=True) if cuda else dict(shuffle=True, batch_size=batch_size)\n",
        "  testdataloader_args = dict(shuffle=False, batch_size=batch_size, num_workers=workers, pin_memory=True) if cuda else dict(shuffle=True, batch_size=batch_size)\n",
        "\n",
        "  trainset = datasets.CIFAR10(root='./data', train=True,\n",
        "                                        download=True, transform=train_transforms)\n",
        "  trainloader = torch.utils.data.DataLoader(trainset, **dataloader_args)\n",
        "\n",
        "  testset = datasets.CIFAR10(root='./data', train=False,\n",
        "                                        download=True, transform=test_transforms)\n",
        "  testloader = torch.utils.data.DataLoader(testset, **testdataloader_args)\n",
        "  classes = ('plane', 'car', 'bird', 'cat','deer', 'dog', 'frog', 'horse', 'ship', 'truck')\n",
        "  return trainloader, testloader"
      ],
      "execution_count": 0,
      "outputs": []
    },
    {
      "cell_type": "code",
      "metadata": {
        "id": "64GfbkMiqAsk",
        "colab_type": "code",
        "colab": {}
      },
      "source": [
        "def transformations():\n",
        "  # Train Phase transformations\n",
        "  train_transforms = transforms.Compose([\n",
        "                                       #transforms.RandomRotation((-12.0, 12.0), fill=(1,)),\n",
        "                                       transforms.RandomCrop(32, padding=4),\n",
        "                                       transforms.RandomHorizontalFlip(),\n",
        "                                       transforms.ToTensor(),\n",
        "                                       transforms.Normalize((0.5, 0.5, 0.5), (0.5, 0.5, 0.5))\n",
        "                                       ])\n",
        "\n",
        "  # Test Phase transformations\n",
        "  test_transforms = transforms.Compose([\n",
        "                                       transforms.ToTensor(),\n",
        "                                       transforms.Normalize((0.5, 0.5, 0.5), (0.5, 0.5, 0.5))\n",
        "                                       ])\n",
        "  return train_transforms , test_transforms"
      ],
      "execution_count": 0,
      "outputs": []
    }
  ]
}