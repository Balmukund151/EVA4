{
  "nbformat": 4,
  "nbformat_minor": 0,
  "metadata": {
    "colab": {
      "name": "Graphs_And_Other_Utility_Functions.ipynb",
      "provenance": [],
      "collapsed_sections": []
    },
    "kernelspec": {
      "name": "python3",
      "display_name": "Python 3"
    }
  },
  "cells": [
    {
      "cell_type": "code",
      "metadata": {
        "id": "0kKAunYTq04R",
        "colab_type": "code",
        "colab": {}
      },
      "source": [
        "%matplotlib inline\n",
        "import matplotlib.pyplot as plt\n",
        "import torch"
      ],
      "execution_count": 0,
      "outputs": []
    },
    {
      "cell_type": "code",
      "metadata": {
        "id": "U6V16ooPIHGP",
        "colab_type": "code",
        "colab": {}
      },
      "source": [
        "def plot(train_losses,train_acc,test_losses,test_acc, label):\n",
        "  fig, axs = plt.subplots(1,2,figsize=(20,8))\n",
        "  axs[0].plot(test_losses, label=label)\n",
        "  axs[0].set_title(\"Test Loss\")\n",
        "  axs[1].plot(test_acc, label=label)\n",
        "  axs[1].set_title(\"Test Accuracy\")"
      ],
      "execution_count": 0,
      "outputs": []
    },
    {
      "cell_type": "code",
      "metadata": {
        "id": "h5wPMMKCrFfT",
        "colab_type": "code",
        "colab": {}
      },
      "source": [
        "def plotall():\n",
        "  fig, axs = plt.subplots(1,2,figsize=(20,8))\n",
        "  axs[0].plot(test_losses_without_L1_L2, label='without L1 and L2')\n",
        "  axs[0].plot(test_losses_L1, label='with L1 only')\n",
        "  axs[0].plot(test_losses_L2, label='with L2 only')\n",
        "  axs[0].plot(test_losses_L1_L2, label='with L1 and L2 both')\n",
        "  axs[0].set_title(\"Test Loss\")\n",
        "  axs[0].legend()\n",
        "  axs[1].plot(test_acc_without_L1_L2, label='without L1 and L2')\n",
        "  axs[1].plot(test_acc_L1, label='with L1 only')\n",
        "  axs[1].plot(test_acc_L2, label='with L2 only')\n",
        "  axs[1].plot(test_acc_L1_L2, label='with L1 and L2 both')\n",
        "  axs[1].set_title(\"Test Accuracy\")\n",
        "  axs[1].legend()\n",
        "  # plt.savefig('/content/gdrive/My Drive/plot.png')"
      ],
      "execution_count": 0,
      "outputs": []
    },
    {
      "cell_type": "code",
      "metadata": {
        "id": "jwuzw9NRrJCj",
        "colab_type": "code",
        "colab": {}
      },
      "source": [
        "def plot_misclassified_images(missclassified,filename):\n",
        "  mis_Class_list=list(missclassified.values())\n",
        "  # each_Item=missclassified.keys()\n",
        "  # print(\"type= \",(mis_Class_list[1][2]))\n",
        "  print(\"classified= \",mis_Class_list[0][2].shape)\n",
        "  print(\"classified1= \",mis_Class_list[0][2].reshape(28,28,1).shape)\n",
        "  fig = plt.figure(figsize=(10, 10))  # width, height in inches\n",
        "  columns = 5\n",
        "  rows = 5\n",
        "  for i in range(columns*rows):\n",
        "      sub = fig.add_subplot(rows, columns, i+1)\n",
        "      each_img=mis_Class_list[i][2]\n",
        "      shape_change=each_img.reshape(28,28)\n",
        "      # print(\"new shape= \",shape_change.shape)\n",
        "      # sub.imshow(plt.imshow(shape_change,cmap='gray',interpolation='none'))\n",
        "      plt.imshow(shape_change,cmap='gray',interpolation='none')\n",
        "      sub.set_title(\"Pred={}, Act={}\".format(mis_Class_list[i][0].tolist()[0],mis_Class_list[i][1].tolist()[0]))\n",
        "  plt.tight_layout()\n",
        "  plt.savefig(os.path.join('/content/gdrive/My Drive',filename))\n",
        "  plt.show()"
      ],
      "execution_count": 0,
      "outputs": []
    },
    {
      "cell_type": "code",
      "metadata": {
        "id": "e4FAvcXnrLu4",
        "colab_type": "code",
        "colab": {}
      },
      "source": [
        "def save_model(model, path):\n",
        "  torch.save({'model_state_dict': model.state_dict()}, path)"
      ],
      "execution_count": 0,
      "outputs": []
    },
    {
      "cell_type": "code",
      "metadata": {
        "id": "tl1PY-7zw3y7",
        "colab_type": "code",
        "colab": {}
      },
      "source": [
        "def get_lr(optimizer):\n",
        "    for param_group in optimizer.param_groups:\n",
        "        return param_group['lr']"
      ],
      "execution_count": 0,
      "outputs": []
    }
  ]
}