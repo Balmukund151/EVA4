{
  "nbformat": 4,
  "nbformat_minor": 0,
  "metadata": {
    "colab": {
      "name": "Assignment_12.ipynb",
      "provenance": [],
      "collapsed_sections": [],
      "machine_shape": "hm"
    },
    "kernelspec": {
      "name": "python3",
      "display_name": "Python 3"
    },
    "accelerator": "GPU"
  },
  "cells": [
    {
      "cell_type": "code",
      "metadata": {
        "id": "GoPDNEkwFeuU",
        "colab_type": "code",
        "outputId": "40531a97-7ae7-4c69-af7c-e36bba1d00da",
        "colab": {
          "base_uri": "https://localhost:8080/",
          "height": 36
        }
      },
      "source": [
        "import torch\n",
        "import torch.nn as nn\n",
        "import torch.nn.functional as F\n",
        "import torch.optim as optim\n",
        "from torchvision import datasets, transforms\n",
        "!pip install torchsummary\n",
        "from torchsummary import summary\n",
        "from tqdm import tqdm\n",
        "%matplotlib inline\n",
        "import matplotlib.pyplot as plt\n",
        "from torchvision.transforms import ToPILImage\n",
        "from torchvision.utils import save_image\n",
        "import os\n",
        "import glob\n",
        "from torch.utils.data.sampler import SubsetRandomSampler\n",
        "import numpy as np\n",
        "import cv2\n",
        "import random \n",
        "import math\n",
        "import threading"
      ],
      "execution_count": 1,
      "outputs": [
        {
          "output_type": "stream",
          "text": [
            "Requirement already satisfied: torchsummary in /usr/local/lib/python3.6/dist-packages (1.5.1)\n"
          ],
          "name": "stdout"
        }
      ]
    },
    {
      "cell_type": "code",
      "metadata": {
        "id": "aSKmRuObFk10",
        "colab_type": "code",
        "colab": {}
      },
      "source": [
        "use_cuda = torch.cuda.is_available()\n",
        "device = torch.device(\"cuda\" if use_cuda else \"cpu\")"
      ],
      "execution_count": 0,
      "outputs": []
    },
    {
      "cell_type": "code",
      "metadata": {
        "id": "rnJT5papF6wI",
        "colab_type": "code",
        "outputId": "1a490d5f-ab56-4b8f-b566-387d8f61fbad",
        "colab": {
          "base_uri": "https://localhost:8080/",
          "height": 131
        }
      },
      "source": [
        "from google.colab import drive\n",
        "drive.mount('/content/gdrive') "
      ],
      "execution_count": 3,
      "outputs": [
        {
          "output_type": "stream",
          "text": [
            "Go to this URL in a browser: https://accounts.google.com/o/oauth2/auth?client_id=947318989803-6bn6qk8qdgf4n4g3pfee6491hc0brc4i.apps.googleusercontent.com&redirect_uri=urn%3aietf%3awg%3aoauth%3a2.0%3aoob&response_type=code&scope=email%20https%3a%2f%2fwww.googleapis.com%2fauth%2fdocs.test%20https%3a%2f%2fwww.googleapis.com%2fauth%2fdrive%20https%3a%2f%2fwww.googleapis.com%2fauth%2fdrive.photos.readonly%20https%3a%2f%2fwww.googleapis.com%2fauth%2fpeopleapi.readonly\n",
            "\n",
            "Enter your authorization code:\n",
            "··········\n",
            "Mounted at /content/gdrive\n"
          ],
          "name": "stdout"
        }
      ]
    },
    {
      "cell_type": "code",
      "metadata": {
        "id": "xQxSg2aNGCMD",
        "colab_type": "code",
        "outputId": "df13b829-b621-411e-9e1c-200d52e93d19",
        "colab": {
          "base_uri": "https://localhost:8080/",
          "height": 36
        }
      },
      "source": [
        "%cd \"/content/gdrive/My Drive/Colab Notebooks/CNN_Utility\""
      ],
      "execution_count": 4,
      "outputs": [
        {
          "output_type": "stream",
          "text": [
            "/content/gdrive/My Drive/Colab Notebooks/CNN_Utility\n"
          ],
          "name": "stdout"
        }
      ]
    },
    {
      "cell_type": "code",
      "metadata": {
        "id": "XsLMRb4mvuUg",
        "colab_type": "code",
        "colab": {}
      },
      "source": [
        "data_transforms = transforms.Compose([\n",
        "        #transforms.RandomHorizontalFlip(),\n",
        "        transforms.ToTensor(),\n",
        "        transforms.Normalize((0.5, 0.5, 0.5), (0.5, 0.5, 0.5))\n",
        "    ])"
      ],
      "execution_count": 0,
      "outputs": []
    },
    {
      "cell_type": "code",
      "metadata": {
        "id": "PdD2kHiMxBoB",
        "colab_type": "code",
        "colab": {}
      },
      "source": [
        "def get_classes():\n",
        "  path='tiny-imagenet-200/wnids.txt'\n",
        "  class_dict={}\n",
        "  count=0\n",
        "  with open(path) as file:\n",
        "    for line in file:\n",
        "      class_dict[line.strip()]=count\n",
        "      count+=1\n",
        "  return class_dict"
      ],
      "execution_count": 0,
      "outputs": []
    },
    {
      "cell_type": "code",
      "metadata": {
        "id": "vkrn-tOGw46r",
        "colab_type": "code",
        "colab": {
          "base_uri": "https://localhost:8080/",
          "height": 54
        },
        "outputId": "67c6f91b-216f-42c2-e0cb-fd4113d91510"
      },
      "source": [
        "from dataloaders import transformations,AlbumentationWrapper\n",
        "from models import BasicBlock,Bottleneck,ResNet,ResNet18,model_params,Net,model_params\n",
        "from graphs_and_other_utility_functions import plot,save_model,get_lr,plot_misclassified_gradcam_images,plotLRFinder\n",
        "from train_test import train,test\n",
        "from lr_finder import LRFinder\n",
        "import grad_cam\n",
        "from main import demo1"
      ],
      "execution_count": 7,
      "outputs": [
        {
          "output_type": "stream",
          "text": [
            "WARNING:lr_finder:To enable mixed precision training, please install `apex`. Or you can re-install this package by the following command:\n",
            "  pip install torch-lr-finder -v --global-option=\"amp\"\n"
          ],
          "name": "stderr"
        }
      ]
    },
    {
      "cell_type": "code",
      "metadata": {
        "id": "7hClTgZ73AAm",
        "colab_type": "code",
        "colab": {}
      },
      "source": [
        "train_image_datasets = datasets.ImageFolder('tiny-imagenet-200/train',data_transforms)"
      ],
      "execution_count": 0,
      "outputs": []
    },
    {
      "cell_type": "code",
      "metadata": {
        "id": "oINrnmSODN0R",
        "colab_type": "code",
        "colab": {
          "base_uri": "https://localhost:8080/",
          "height": 36
        },
        "outputId": "ad1a6328-0fcd-4165-f75b-25d432eacf2c"
      },
      "source": [
        "len(train_image_datasets)"
      ],
      "execution_count": 9,
      "outputs": [
        {
          "output_type": "execute_result",
          "data": {
            "text/plain": [
              "96771"
            ]
          },
          "metadata": {
            "tags": []
          },
          "execution_count": 9
        }
      ]
    },
    {
      "cell_type": "code",
      "metadata": {
        "id": "F_hLxgLF8Oub",
        "colab_type": "code",
        "colab": {}
      },
      "source": [
        "cuda = torch.cuda.is_available()\n",
        "dataloader_args = dict(shuffle=True, batch_size=128, num_workers=10, pin_memory=True) if cuda else dict(shuffle=False, batch_size=128)\n",
        "#trainloader = torch.utils.data.DataLoader(train_image_datasets, **dataloader_args)"
      ],
      "execution_count": 0,
      "outputs": []
    },
    {
      "cell_type": "code",
      "metadata": {
        "id": "frdR8ihWAoyg",
        "colab_type": "code",
        "colab": {}
      },
      "source": [
        "train_set,test_set=torch.utils.data.random_split(train_image_datasets, [68000,(96771-68000)])"
      ],
      "execution_count": 0,
      "outputs": []
    },
    {
      "cell_type": "code",
      "metadata": {
        "id": "XAqW0yIn_97H",
        "colab_type": "code",
        "colab": {}
      },
      "source": [
        "trainloader = torch.utils.data.DataLoader(train_set, **dataloader_args)"
      ],
      "execution_count": 0,
      "outputs": []
    },
    {
      "cell_type": "code",
      "metadata": {
        "id": "7FjedNymDo8S",
        "colab_type": "code",
        "colab": {}
      },
      "source": [
        "testloader = torch.utils.data.DataLoader(test_set, **dataloader_args)"
      ],
      "execution_count": 0,
      "outputs": []
    },
    {
      "cell_type": "code",
      "metadata": {
        "id": "QBVtuVVd2SId",
        "colab_type": "code",
        "colab": {
          "base_uri": "https://localhost:8080/",
          "height": 362
        },
        "outputId": "72170f6c-95f1-4fe0-e05f-9d109bf5a174"
      },
      "source": [
        "data_iter = iter(trainloader)\n",
        "images, labels = data_iter.next()\n",
        "print(len(trainloader))\n",
        "print(len(testloader))\n",
        "X = images.numpy().transpose([0, 2, 3, 1])\n",
        "print(X[22].shape)\n",
        "plt.imshow(X[0])"
      ],
      "execution_count": 16,
      "outputs": [
        {
          "output_type": "stream",
          "text": [
            "WARNING:matplotlib.image:Clipping input data to the valid range for imshow with RGB data ([0..1] for floats or [0..255] for integers).\n"
          ],
          "name": "stderr"
        },
        {
          "output_type": "stream",
          "text": [
            "532\n",
            "225\n",
            "(64, 64, 3)\n"
          ],
          "name": "stdout"
        },
        {
          "output_type": "execute_result",
          "data": {
            "text/plain": [
              "<matplotlib.image.AxesImage at 0x7f587833cf28>"
            ]
          },
          "metadata": {
            "tags": []
          },
          "execution_count": 16
        },
        {
          "output_type": "display_data",
          "data": {
            "image/png": "[encoded data removed]",
            "text/plain": [
              "<Figure size 432x288 with 1 Axes>"
            ]
          },
          "metadata": {
            "tags": [],
            "needs_background": "light"
          }
        }
      ]
    },
    {
      "cell_type": "code",
      "metadata": {
        "id": "uGXpu9YhUQOA",
        "colab_type": "code",
        "colab": {}
      },
      "source": [
        "model =  ResNet18(len(get_classes())).to(device)\n",
        "lrr=0.001\n",
        "optimizer1 = optim.SGD(model.parameters(), lr=lrr, momentum=0.9)#, weight_decay=9e-4)\n",
        "scheduler1 = torch.optim.lr_scheduler.OneCycleLR(optimizer1, max_lr=lrr*10, pct_start=0.21 , steps_per_epoch=len(trainloader), div_factor=10, cycle_momentum=False, epochs=24)\n",
        "epochs=10\n",
        "input_size=(3,64,64)"
      ],
      "execution_count": 0,
      "outputs": []
    },
    {
      "cell_type": "code",
      "metadata": {
        "id": "LPkI-XMVUseo",
        "colab_type": "code",
        "colab": {
          "base_uri": "https://localhost:8080/",
          "height": 1000
        },
        "outputId": "3861a3c6-24ed-49f1-8496-7163860694c5"
      },
      "source": [
        "train_losses_without_L1_L2 = []\n",
        "test_losses_without_L1_L2 = []\n",
        "train_acc_without_L1_L2 = []\n",
        "test_acc_without_L1_L2 = []\n",
        "best_loss = 1000.0\n",
        "misclassified_list = {}\n",
        "model_params(model, input_size,device)  \n",
        "\n",
        "for epoch in range(epochs):\n",
        "    print(\"EPOCH: %s LR: %s \" % (epoch, get_lr(optimizer1)))\n",
        "    best_loss=train(model, device, trainloader, optimizer1, scheduler1, epoch, False, train_acc_without_L1_L2, train_losses_without_L1_L2, best_loss, False)\n",
        "    test(model, device, testloader, test_acc_without_L1_L2, test_losses_without_L1_L2, misclassified_list)\n",
        "    #scheduler.step()\n",
        "plot(train_losses_without_L1_L2,train_acc_without_L1_L2, test_losses_without_L1_L2, test_acc_without_L1_L2, 'without L1 and L2')"
      ],
      "execution_count": 18,
      "outputs": [
        {
          "output_type": "stream",
          "text": [
            "\r  0%|          | 0/532 [00:00<?, ?it/s]"
          ],
          "name": "stderr"
        },
        {
          "output_type": "stream",
          "text": [
            "----------------------------------------------------------------\n",
            "        Layer (type)               Output Shape         Param #\n",
            "================================================================\n",
            "            Conv2d-1           [-1, 64, 64, 64]           1,728\n",
            "       BatchNorm2d-2           [-1, 64, 64, 64]             128\n",
            "            Conv2d-3           [-1, 64, 64, 64]          36,864\n",
            "       BatchNorm2d-4           [-1, 64, 64, 64]             128\n",
            "            Conv2d-5           [-1, 64, 64, 64]          36,864\n",
            "       BatchNorm2d-6           [-1, 64, 64, 64]             128\n",
            "        BasicBlock-7           [-1, 64, 64, 64]               0\n",
            "            Conv2d-8           [-1, 64, 64, 64]          36,864\n",
            "       BatchNorm2d-9           [-1, 64, 64, 64]             128\n",
            "           Conv2d-10           [-1, 64, 64, 64]          36,864\n",
            "      BatchNorm2d-11           [-1, 64, 64, 64]             128\n",
            "       BasicBlock-12           [-1, 64, 64, 64]               0\n",
            "           Conv2d-13          [-1, 128, 32, 32]          73,728\n",
            "      BatchNorm2d-14          [-1, 128, 32, 32]             256\n",
            "           Conv2d-15          [-1, 128, 32, 32]         147,456\n",
            "      BatchNorm2d-16          [-1, 128, 32, 32]             256\n",
            "           Conv2d-17          [-1, 128, 32, 32]           8,192\n",
            "      BatchNorm2d-18          [-1, 128, 32, 32]             256\n",
            "       BasicBlock-19          [-1, 128, 32, 32]               0\n",
            "           Conv2d-20          [-1, 128, 32, 32]         147,456\n",
            "      BatchNorm2d-21          [-1, 128, 32, 32]             256\n",
            "           Conv2d-22          [-1, 128, 32, 32]         147,456\n",
            "      BatchNorm2d-23          [-1, 128, 32, 32]             256\n",
            "       BasicBlock-24          [-1, 128, 32, 32]               0\n",
            "           Conv2d-25          [-1, 256, 16, 16]         294,912\n",
            "      BatchNorm2d-26          [-1, 256, 16, 16]             512\n",
            "           Conv2d-27          [-1, 256, 16, 16]         589,824\n",
            "      BatchNorm2d-28          [-1, 256, 16, 16]             512\n",
            "           Conv2d-29          [-1, 256, 16, 16]          32,768\n",
            "      BatchNorm2d-30          [-1, 256, 16, 16]             512\n",
            "       BasicBlock-31          [-1, 256, 16, 16]               0\n",
            "           Conv2d-32          [-1, 256, 16, 16]         589,824\n",
            "      BatchNorm2d-33          [-1, 256, 16, 16]             512\n",
            "           Conv2d-34          [-1, 256, 16, 16]         589,824\n",
            "      BatchNorm2d-35          [-1, 256, 16, 16]             512\n",
            "       BasicBlock-36          [-1, 256, 16, 16]               0\n",
            "           Conv2d-37            [-1, 512, 8, 8]       1,179,648\n",
            "      BatchNorm2d-38            [-1, 512, 8, 8]           1,024\n",
            "           Conv2d-39            [-1, 512, 8, 8]       2,359,296\n",
            "      BatchNorm2d-40            [-1, 512, 8, 8]           1,024\n",
            "           Conv2d-41            [-1, 512, 8, 8]         131,072\n",
            "      BatchNorm2d-42            [-1, 512, 8, 8]           1,024\n",
            "       BasicBlock-43            [-1, 512, 8, 8]               0\n",
            "           Conv2d-44            [-1, 512, 8, 8]       2,359,296\n",
            "      BatchNorm2d-45            [-1, 512, 8, 8]           1,024\n",
            "           Conv2d-46            [-1, 512, 8, 8]       2,359,296\n",
            "      BatchNorm2d-47            [-1, 512, 8, 8]           1,024\n",
            "       BasicBlock-48            [-1, 512, 8, 8]               0\n",
            "           Linear-49                  [-1, 200]         102,600\n",
            "================================================================\n",
            "Total params: 11,271,432\n",
            "Trainable params: 11,271,432\n",
            "Non-trainable params: 0\n",
            "----------------------------------------------------------------\n",
            "Input size (MB): 0.05\n",
            "Forward/backward pass size (MB): 45.00\n",
            "Params size (MB): 43.00\n",
            "Estimated Total Size (MB): 88.05\n",
            "----------------------------------------------------------------\n",
            "EPOCH: 0 LR: 0.0009999999999999992 \n"
          ],
          "name": "stdout"
        },
        {
          "output_type": "stream",
          "text": [
            "Loss=4.036650657653809 Batch_id=531 le=0.0018468899783472149 Accuracy=4.94: 100%|██████████| 532/532 [41:28<00:00,  4.68s/it]\n",
            "  0%|          | 0/532 [00:00<?, ?it/s]"
          ],
          "name": "stderr"
        },
        {
          "output_type": "stream",
          "text": [
            "\n",
            "Test set: Average loss: 0.0349, Accuracy: 2301/28771 (8.00%)\n",
            "\n",
            "EPOCH: 1 LR: 0.0018468899783472149 \n"
          ],
          "name": "stdout"
        },
        {
          "output_type": "stream",
          "text": [
            "Loss=4.153738021850586 Batch_id=531 le=0.004068794297644442 Accuracy=12.02: 100%|██████████| 532/532 [06:26<00:00,  1.37it/s]\n",
            "  0%|          | 0/532 [00:00<?, ?it/s]"
          ],
          "name": "stderr"
        },
        {
          "output_type": "stream",
          "text": [
            "\n",
            "Test set: Average loss: 0.0324, Accuracy: 3453/28771 (12.00%)\n",
            "\n",
            "EPOCH: 2 LR: 0.004068794297644442 \n"
          ],
          "name": "stdout"
        },
        {
          "output_type": "stream",
          "text": [
            "Loss=3.3608908653259277 Batch_id=531 le=0.006829398068620918 Accuracy=18.40: 100%|██████████| 532/532 [06:26<00:00,  1.38it/s]\n",
            "  0%|          | 0/532 [00:00<?, ?it/s]"
          ],
          "name": "stderr"
        },
        {
          "output_type": "stream",
          "text": [
            "\n",
            "Test set: Average loss: 0.0304, Accuracy: 4530/28771 (15.75%)\n",
            "\n",
            "EPOCH: 3 LR: 0.006829398068620918 \n"
          ],
          "name": "stdout"
        },
        {
          "output_type": "stream",
          "text": [
            "Loss=3.0129799842834473 Batch_id=531 le=0.00908962232779775 Accuracy=24.53: 100%|██████████| 532/532 [06:26<00:00,  1.38it/s]\n",
            "  0%|          | 0/532 [00:00<?, ?it/s]"
          ],
          "name": "stderr"
        },
        {
          "output_type": "stream",
          "text": [
            "\n",
            "Test set: Average loss: 0.0266, Accuracy: 6473/28771 (22.50%)\n",
            "\n",
            "EPOCH: 4 LR: 0.00908962232779775 \n"
          ],
          "name": "stdout"
        },
        {
          "output_type": "stream",
          "text": [
            "Loss=3.4604196548461914 Batch_id=531 le=0.009998728731213106 Accuracy=30.90: 100%|██████████| 532/532 [06:25<00:00,  1.38it/s]\n",
            "  0%|          | 0/532 [00:00<?, ?it/s]"
          ],
          "name": "stderr"
        },
        {
          "output_type": "stream",
          "text": [
            "\n",
            "Test set: Average loss: 0.0282, Accuracy: 6093/28771 (21.18%)\n",
            "\n",
            "EPOCH: 5 LR: 0.009998728731213106 \n"
          ],
          "name": "stdout"
        },
        {
          "output_type": "stream",
          "text": [
            "Loss=2.2723946571350098 Batch_id=531 le=0.009936630432037444 Accuracy=36.35: 100%|██████████| 532/532 [06:28<00:00,  1.37it/s]\n",
            "  0%|          | 0/532 [00:00<?, ?it/s]"
          ],
          "name": "stderr"
        },
        {
          "output_type": "stream",
          "text": [
            "\n",
            "Test set: Average loss: 0.0237, Accuracy: 8705/28771 (30.26%)\n",
            "\n",
            "EPOCH: 6 LR: 0.009936630432037444 \n"
          ],
          "name": "stdout"
        },
        {
          "output_type": "stream",
          "text": [
            "Loss=3.0681040287017822 Batch_id=531 le=0.009738136088096358 Accuracy=41.64: 100%|██████████| 532/532 [06:29<00:00,  1.36it/s]\n",
            "  0%|          | 0/532 [00:00<?, ?it/s]"
          ],
          "name": "stderr"
        },
        {
          "output_type": "stream",
          "text": [
            "\n",
            "Test set: Average loss: 0.0224, Accuracy: 9660/28771 (33.58%)\n",
            "\n",
            "EPOCH: 7 LR: 0.009738136088096358 \n"
          ],
          "name": "stdout"
        },
        {
          "output_type": "stream",
          "text": [
            "Loss=1.8574508428573608 Batch_id=531 le=0.009409854453666896 Accuracy=46.56: 100%|██████████| 532/532 [06:28<00:00,  1.37it/s]\n",
            "  0%|          | 0/532 [00:00<?, ?it/s]"
          ],
          "name": "stderr"
        },
        {
          "output_type": "stream",
          "text": [
            "\n",
            "Test set: Average loss: 0.0206, Accuracy: 10850/28771 (37.71%)\n",
            "\n",
            "EPOCH: 8 LR: 0.009409854453666896 \n"
          ],
          "name": "stdout"
        },
        {
          "output_type": "stream",
          "text": [
            "Loss=2.206944704055786 Batch_id=531 le=0.00896077793265593 Accuracy=51.07: 100%|██████████| 532/532 [06:25<00:00,  1.38it/s]\n",
            "  0%|          | 0/532 [00:00<?, ?it/s]"
          ],
          "name": "stderr"
        },
        {
          "output_type": "stream",
          "text": [
            "\n",
            "Test set: Average loss: 0.0213, Accuracy: 10520/28771 (36.56%)\n",
            "\n",
            "EPOCH: 9 LR: 0.00896077793265593 \n"
          ],
          "name": "stdout"
        },
        {
          "output_type": "stream",
          "text": [
            "Loss=1.6683518886566162 Batch_id=531 le=0.00840320778422175 Accuracy=55.85: 100%|██████████| 532/532 [06:28<00:00,  1.37it/s]\n"
          ],
          "name": "stderr"
        },
        {
          "output_type": "stream",
          "text": [
            "\n",
            "Test set: Average loss: 0.0202, Accuracy: 11547/28771 (40.13%)\n",
            "\n"
          ],
          "name": "stdout"
        },
        {
          "output_type": "display_data",
          "data": {
            "image/png": "[encoded data removed]",
            "text/plain": [
              "<Figure size 1440x576 with 2 Axes>"
            ]
          },
          "metadata": {
            "tags": [],
            "needs_background": "light"
          }
        }
      ]
    }
  ]
}