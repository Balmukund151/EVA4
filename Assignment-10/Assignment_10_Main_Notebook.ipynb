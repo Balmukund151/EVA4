{
  "nbformat": 4,
  "nbformat_minor": 0,
  "metadata": {
    "colab": {
      "name": "Assignment_10_Main_Notebook.ipynb",
      "provenance": [],
      "collapsed_sections": []
    },
    "kernelspec": {
      "name": "python3",
      "display_name": "Python 3"
    },
    "accelerator": "GPU",
    "widgets": {
      "application/vnd.jupyter.widget-state+json": {
        "be9736f7aabb4c4fb53bfabc2d0430d4": {
          "model_module": "@jupyter-widgets/controls",
          "model_name": "HBoxModel",
          "state": {
            "_view_name": "HBoxView",
            "_dom_classes": [],
            "_model_name": "HBoxModel",
            "_view_module": "@jupyter-widgets/controls",
            "_model_module_version": "1.5.0",
            "_view_count": null,
            "_view_module_version": "1.5.0",
            "box_style": "",
            "layout": "IPY_MODEL_4ee85b3f0353456fadcfd6c729e78f0f",
            "_model_module": "@jupyter-widgets/controls",
            "children": [
              "IPY_MODEL_feb65fff8a354033b47f86b3af05c8a4",
              "IPY_MODEL_953ffb88d0824bea9978d97469660bdd"
            ]
          }
        },
        "4ee85b3f0353456fadcfd6c729e78f0f": {
          "model_module": "@jupyter-widgets/base",
          "model_name": "LayoutModel",
          "state": {
            "_view_name": "LayoutView",
            "grid_template_rows": null,
            "right": null,
            "justify_content": null,
            "_view_module": "@jupyter-widgets/base",
            "overflow": null,
            "_model_module_version": "1.2.0",
            "_view_count": null,
            "flex_flow": null,
            "width": null,
            "min_width": null,
            "border": null,
            "align_items": null,
            "bottom": null,
            "_model_module": "@jupyter-widgets/base",
            "top": null,
            "grid_column": null,
            "overflow_y": null,
            "overflow_x": null,
            "grid_auto_flow": null,
            "grid_area": null,
            "grid_template_columns": null,
            "flex": null,
            "_model_name": "LayoutModel",
            "justify_items": null,
            "grid_row": null,
            "max_height": null,
            "align_content": null,
            "visibility": null,
            "align_self": null,
            "height": null,
            "min_height": null,
            "padding": null,
            "grid_auto_rows": null,
            "grid_gap": null,
            "max_width": null,
            "order": null,
            "_view_module_version": "1.2.0",
            "grid_template_areas": null,
            "object_position": null,
            "object_fit": null,
            "grid_auto_columns": null,
            "margin": null,
            "display": null,
            "left": null
          }
        },
        "feb65fff8a354033b47f86b3af05c8a4": {
          "model_module": "@jupyter-widgets/controls",
          "model_name": "IntProgressModel",
          "state": {
            "_view_name": "ProgressView",
            "style": "IPY_MODEL_77a4c22a186047f7b005fa6a80d7fa74",
            "_dom_classes": [],
            "description": " 88%",
            "_model_name": "IntProgressModel",
            "bar_style": "danger",
            "max": 400,
            "_view_module": "@jupyter-widgets/controls",
            "_model_module_version": "1.5.0",
            "value": 350,
            "_view_count": null,
            "_view_module_version": "1.5.0",
            "orientation": "horizontal",
            "min": 0,
            "description_tooltip": null,
            "_model_module": "@jupyter-widgets/controls",
            "layout": "IPY_MODEL_44d917630d834d298a931cf8eea2fa48"
          }
        },
        "953ffb88d0824bea9978d97469660bdd": {
          "model_module": "@jupyter-widgets/controls",
          "model_name": "HTMLModel",
          "state": {
            "_view_name": "HTMLView",
            "style": "IPY_MODEL_911905f8583b41edb0eb4d31e628cafc",
            "_dom_classes": [],
            "description": "",
            "_model_name": "HTMLModel",
            "placeholder": "​",
            "_view_module": "@jupyter-widgets/controls",
            "_model_module_version": "1.5.0",
            "value": " 350/400 [00:40&lt;00:04, 12.36it/s]",
            "_view_count": null,
            "_view_module_version": "1.5.0",
            "description_tooltip": null,
            "_model_module": "@jupyter-widgets/controls",
            "layout": "IPY_MODEL_a88ecba852a649cd97760cc0c67b4c3e"
          }
        },
        "77a4c22a186047f7b005fa6a80d7fa74": {
          "model_module": "@jupyter-widgets/controls",
          "model_name": "ProgressStyleModel",
          "state": {
            "_view_name": "StyleView",
            "_model_name": "ProgressStyleModel",
            "description_width": "initial",
            "_view_module": "@jupyter-widgets/base",
            "_model_module_version": "1.5.0",
            "_view_count": null,
            "_view_module_version": "1.2.0",
            "bar_color": null,
            "_model_module": "@jupyter-widgets/controls"
          }
        },
        "44d917630d834d298a931cf8eea2fa48": {
          "model_module": "@jupyter-widgets/base",
          "model_name": "LayoutModel",
          "state": {
            "_view_name": "LayoutView",
            "grid_template_rows": null,
            "right": null,
            "justify_content": null,
            "_view_module": "@jupyter-widgets/base",
            "overflow": null,
            "_model_module_version": "1.2.0",
            "_view_count": null,
            "flex_flow": null,
            "width": null,
            "min_width": null,
            "border": null,
            "align_items": null,
            "bottom": null,
            "_model_module": "@jupyter-widgets/base",
            "top": null,
            "grid_column": null,
            "overflow_y": null,
            "overflow_x": null,
            "grid_auto_flow": null,
            "grid_area": null,
            "grid_template_columns": null,
            "flex": null,
            "_model_name": "LayoutModel",
            "justify_items": null,
            "grid_row": null,
            "max_height": null,
            "align_content": null,
            "visibility": null,
            "align_self": null,
            "height": null,
            "min_height": null,
            "padding": null,
            "grid_auto_rows": null,
            "grid_gap": null,
            "max_width": null,
            "order": null,
            "_view_module_version": "1.2.0",
            "grid_template_areas": null,
            "object_position": null,
            "object_fit": null,
            "grid_auto_columns": null,
            "margin": null,
            "display": null,
            "left": null
          }
        },
        "911905f8583b41edb0eb4d31e628cafc": {
          "model_module": "@jupyter-widgets/controls",
          "model_name": "DescriptionStyleModel",
          "state": {
            "_view_name": "StyleView",
            "_model_name": "DescriptionStyleModel",
            "description_width": "",
            "_view_module": "@jupyter-widgets/base",
            "_model_module_version": "1.5.0",
            "_view_count": null,
            "_view_module_version": "1.2.0",
            "_model_module": "@jupyter-widgets/controls"
          }
        },
        "a88ecba852a649cd97760cc0c67b4c3e": {
          "model_module": "@jupyter-widgets/base",
          "model_name": "LayoutModel",
          "state": {
            "_view_name": "LayoutView",
            "grid_template_rows": null,
            "right": null,
            "justify_content": null,
            "_view_module": "@jupyter-widgets/base",
            "overflow": null,
            "_model_module_version": "1.2.0",
            "_view_count": null,
            "flex_flow": null,
            "width": null,
            "min_width": null,
            "border": null,
            "align_items": null,
            "bottom": null,
            "_model_module": "@jupyter-widgets/base",
            "top": null,
            "grid_column": null,
            "overflow_y": null,
            "overflow_x": null,
            "grid_auto_flow": null,
            "grid_area": null,
            "grid_template_columns": null,
            "flex": null,
            "_model_name": "LayoutModel",
            "justify_items": null,
            "grid_row": null,
            "max_height": null,
            "align_content": null,
            "visibility": null,
            "align_self": null,
            "height": null,
            "min_height": null,
            "padding": null,
            "grid_auto_rows": null,
            "grid_gap": null,
            "max_width": null,
            "order": null,
            "_view_module_version": "1.2.0",
            "grid_template_areas": null,
            "object_position": null,
            "object_fit": null,
            "grid_auto_columns": null,
            "margin": null,
            "display": null,
            "left": null
          }
        }
      }
    }
  },
  "cells": [
    {
      "cell_type": "code",
      "metadata": {
        "id": "4hIlzG8Yt-iN",
        "colab_type": "code",
        "outputId": "330c63ab-9913-4a79-9865-d13f1a14e1c8",
        "colab": {
          "base_uri": "https://localhost:8080/",
          "height": 211
        }
      },
      "source": [
        "!pip install import-ipynb\n",
        "import import_ipynb\n",
        "#from __future__ import print_function\n",
        "import torch\n",
        "import torch.nn as nn\n",
        "import torch.nn.functional as F\n",
        "import torch.optim as optim\n",
        "from torchvision import datasets, transforms\n",
        "!pip install torchsummary\n",
        "from torchsummary import summary\n",
        "from tqdm import tqdm\n",
        "%matplotlib inline\n",
        "import matplotlib.pyplot as plt\n",
        "from torchvision.transforms import ToPILImage\n",
        "from torchvision.utils import save_image\n",
        "import os\n",
        "%load_ext autoreload\n",
        "%autoreload 2"
      ],
      "execution_count": 1,
      "outputs": [
        {
          "output_type": "stream",
          "text": [
            "Collecting import-ipynb\n",
            "  Downloading https://files.pythonhosted.org/packages/63/35/495e0021bfdcc924c7cdec4e9fbb87c88dd03b9b9b22419444dc370c8a45/import-ipynb-0.1.3.tar.gz\n",
            "Building wheels for collected packages: import-ipynb\n",
            "  Building wheel for import-ipynb (setup.py) ... \u001b[?25l\u001b[?25hdone\n",
            "  Created wheel for import-ipynb: filename=import_ipynb-0.1.3-cp36-none-any.whl size=2976 sha256=8e25e74e022645ec64675d6d16d7f97c4ba36e8338722d440f854a55061bc9df\n",
            "  Stored in directory: /root/.cache/pip/wheels/b4/7b/e9/a3a6e496115dffdb4e3085d0ae39ffe8a814eacc44bbf494b5\n",
            "Successfully built import-ipynb\n",
            "Installing collected packages: import-ipynb\n",
            "Successfully installed import-ipynb-0.1.3\n",
            "Requirement already satisfied: torchsummary in /usr/local/lib/python3.6/dist-packages (1.5.1)\n"
          ],
          "name": "stdout"
        }
      ]
    },
    {
      "cell_type": "code",
      "metadata": {
        "id": "_1li6-VCuGKM",
        "colab_type": "code",
        "colab": {}
      },
      "source": [
        "use_cuda = torch.cuda.is_available()\n",
        "device = torch.device(\"cuda\" if use_cuda else \"cpu\")"
      ],
      "execution_count": 0,
      "outputs": []
    },
    {
      "cell_type": "code",
      "metadata": {
        "id": "xQBSlOfXuRmH",
        "colab_type": "code",
        "outputId": "3cf96200-99ac-473f-b439-e3ccdd72e3c4",
        "colab": {
          "base_uri": "https://localhost:8080/",
          "height": 124
        }
      },
      "source": [
        "from google.colab import drive\n",
        "drive.mount('/content/gdrive') "
      ],
      "execution_count": 3,
      "outputs": [
        {
          "output_type": "stream",
          "text": [
            "Go to this URL in a browser: https://accounts.google.com/o/oauth2/auth?client_id=947318989803-6bn6qk8qdgf4n4g3pfee6491hc0brc4i.apps.googleusercontent.com&redirect_uri=urn%3aietf%3awg%3aoauth%3a2.0%3aoob&response_type=code&scope=email%20https%3a%2f%2fwww.googleapis.com%2fauth%2fdocs.test%20https%3a%2f%2fwww.googleapis.com%2fauth%2fdrive%20https%3a%2f%2fwww.googleapis.com%2fauth%2fdrive.photos.readonly%20https%3a%2f%2fwww.googleapis.com%2fauth%2fpeopleapi.readonly\n",
            "\n",
            "Enter your authorization code:\n",
            "··········\n",
            "Mounted at /content/gdrive\n"
          ],
          "name": "stdout"
        }
      ]
    },
    {
      "cell_type": "code",
      "metadata": {
        "id": "PXAJhHrTuVK4",
        "colab_type": "code",
        "outputId": "010b1199-8a28-49c7-d7ab-a63652a6e40a",
        "colab": {
          "base_uri": "https://localhost:8080/",
          "height": 35
        }
      },
      "source": [
        "%cd \"/content/gdrive/My Drive/Colab Notebooks/CNN_Utility\""
      ],
      "execution_count": 4,
      "outputs": [
        {
          "output_type": "stream",
          "text": [
            "/content/gdrive/My Drive/Colab Notebooks/CNN_Utility\n"
          ],
          "name": "stdout"
        }
      ]
    },
    {
      "cell_type": "code",
      "metadata": {
        "id": "LjYWtbopudwR",
        "colab_type": "code",
        "colab": {}
      },
      "source": [
        "#import sys\n",
        "#sys.path.append('/content/gdrive/My Drive/Colab Notebooks/CNN_Utility')"
      ],
      "execution_count": 0,
      "outputs": []
    },
    {
      "cell_type": "code",
      "metadata": {
        "id": "O0c8r6CvaHX4",
        "colab_type": "code",
        "outputId": "4f7b1138-fb10-4af9-e12d-e95a10c5f660",
        "colab": {
          "base_uri": "https://localhost:8080/",
          "height": 1000
        }
      },
      "source": [
        "ls"
      ],
      "execution_count": 6,
      "outputs": [
        {
          "output_type": "stream",
          "text": [
            "0-resnet18-gradcam-layer4.1.shortcut.png\n",
            "10-resnet18-gradcam-layer4.1.shortcut.png\n",
            "11-resnet18-gradcam-layer4.1.shortcut.png\n",
            "12-resnet18-gradcam-layer4.1.shortcut.png\n",
            "13-resnet18-gradcam-layer4.1.shortcut.png\n",
            "14-resnet18-gradcam-layer4.1.shortcut.png\n",
            "15-resnet18-gradcam-layer4.1.shortcut.png\n",
            "16-resnet18-gradcam-layer4.1.shortcut.png\n",
            "17-resnet18-gradcam-layer4.1.shortcut.png\n",
            "18-resnet18-gradcam-layer4.1.shortcut.png\n",
            "19-resnet18-gradcam-layer4.1.shortcut.png\n",
            "1-resnet18-gradcam-layer4.1.shortcut.png\n",
            "20-resnet18-gradcam-layer4.1.shortcut.png\n",
            "21-resnet18-gradcam-layer4.1.shortcut.png\n",
            "22-resnet18-gradcam-layer4.1.shortcut.png\n",
            "23-resnet18-gradcam-layer4.1.shortcut.png\n",
            "24-resnet18-gradcam-layer4.1.shortcut.png\n",
            "2-resnet18-gradcam-layer4.1.shortcut.png\n",
            "3-resnet18-gradcam-layer4.1.shortcut.png\n",
            "4-resnet18-gradcam-layer4.1.shortcut.png\n",
            "5-resnet18-gradcam-layer4.1.shortcut.png\n",
            "6-resnet18-gradcam-layer4.1.shortcut.png\n",
            "7-resnet18-gradcam-layer4.1.shortcut.png\n",
            "8-resnet18-gradcam-layer4.1.shortcut.png\n",
            "9-resnet18-gradcam-layer4.1.shortcut.png\n",
            "Assign-10-0.png\n",
            "Assign-10-10.png\n",
            "Assign-10-11.png\n",
            "Assign-10-12.png\n",
            "Assign-10-13.png\n",
            "Assign-10-14.png\n",
            "Assign-10-15.png\n",
            "Assign-10-16.png\n",
            "Assign-10-17.png\n",
            "Assign-10-18.png\n",
            "Assign-10-19.png\n",
            "Assign-10-1.png\n",
            "Assign-10-20.png\n",
            "Assign-10-21.png\n",
            "Assign-10-22.png\n",
            "Assign-10-23.png\n",
            "Assign-10-24.png\n",
            "Assign-10-2.png\n",
            "Assign-10-3.png\n",
            "Assign-10-4.png\n",
            "Assign-10-5.png\n",
            "Assign-10-6.png\n",
            "Assign-10-7.png\n",
            "Assign-10-8.png\n",
            "Assign-10-9.png\n",
            "\u001b[0m\u001b[01;34mdata\u001b[0m/\n",
            "dataloaders.py\n",
            "grad_cam.py\n",
            "graphs_and_other_utility_functions.py\n",
            "lr_finder.py\n",
            "main.py\n",
            "models.py\n",
            "\u001b[01;34m__pycache__\u001b[0m/\n",
            "train_test.py\n"
          ],
          "name": "stdout"
        }
      ]
    },
    {
      "cell_type": "code",
      "metadata": {
        "id": "JEE2vmQwuk_9",
        "colab_type": "code",
        "colab": {
          "base_uri": "https://localhost:8080/",
          "height": 52
        },
        "outputId": "ffa61757-8214-4d4f-ae39-635d40997f02"
      },
      "source": [
        "from dataloaders import train_test_dataloaders,transformations,AlbumentationWrapper\n",
        "from models import BasicBlock,Bottleneck,ResNet,ResNet18,model_params,Net,model_params\n",
        "from graphs_and_other_utility_functions import plot,save_model,get_lr,plot_misclassified_gradcam_images\n",
        "from train_test import train,test\n",
        "from lr_finder import LRFinder\n",
        "import grad_cam\n",
        "from main import demo1"
      ],
      "execution_count": 7,
      "outputs": [
        {
          "output_type": "stream",
          "text": [
            "WARNING:lr_finder:To enable mixed precision training, please install `apex`. Or you can re-install this package by the following command:\n",
            "  pip install torch-lr-finder -v --global-option=\"amp\"\n"
          ],
          "name": "stderr"
        }
      ]
    },
    {
      "cell_type": "code",
      "metadata": {
        "id": "TDZG44JK4Qrx",
        "colab_type": "code",
        "colab": {}
      },
      "source": [
        "train_transforms , test_transforms=AlbumentationWrapper('train'), AlbumentationWrapper('test')"
      ],
      "execution_count": 0,
      "outputs": []
    },
    {
      "cell_type": "code",
      "metadata": {
        "id": "viVjl2p983Ma",
        "colab_type": "code",
        "outputId": "9a7fda15-f39e-4180-ee2a-195a2f290b8f",
        "colab": {
          "base_uri": "https://localhost:8080/",
          "height": 69
        }
      },
      "source": [
        "trainloader, testloader = train_test_dataloaders(1, 128, 10, train_transforms , test_transforms)"
      ],
      "execution_count": 9,
      "outputs": [
        {
          "output_type": "stream",
          "text": [
            "CUDA Available? True\n",
            "Files already downloaded and verified\n",
            "Files already downloaded and verified\n"
          ],
          "name": "stdout"
        }
      ]
    },
    {
      "cell_type": "code",
      "metadata": {
        "id": "_zF2RwmUH2EH",
        "colab_type": "code",
        "outputId": "bd1e5f24-95e4-4180-81a3-f73cf1b1a965",
        "colab": {
          "base_uri": "https://localhost:8080/",
          "height": 35
        }
      },
      "source": [
        "it=iter(trainloader)\n",
        "data,target=next(it)\n",
        "print(type(data))"
      ],
      "execution_count": 10,
      "outputs": [
        {
          "output_type": "stream",
          "text": [
            "<class 'torch.Tensor'>\n"
          ],
          "name": "stdout"
        }
      ]
    },
    {
      "cell_type": "code",
      "metadata": {
        "id": "nZdehWc4z4DF",
        "colab_type": "code",
        "colab": {
          "base_uri": "https://localhost:8080/",
          "height": 350,
          "referenced_widgets": [
            "be9736f7aabb4c4fb53bfabc2d0430d4",
            "4ee85b3f0353456fadcfd6c729e78f0f",
            "feb65fff8a354033b47f86b3af05c8a4",
            "953ffb88d0824bea9978d97469660bdd",
            "77a4c22a186047f7b005fa6a80d7fa74",
            "44d917630d834d298a931cf8eea2fa48",
            "911905f8583b41edb0eb4d31e628cafc",
            "a88ecba852a649cd97760cc0c67b4c3e"
          ]
        },
        "outputId": "df7db7bc-6033-40ae-81c6-faf2317068ff"
      },
      "source": [
        "model =  ResNet18().to(device)\n",
        "criterion = nn.CrossEntropyLoss()\n",
        "optimizer = optim.SGD(model.parameters(), lr=1e-4, momentum=0.9)\n",
        "lr_finder = LRFinder(model, optimizer, criterion, device=\"cuda\")\n",
        "lr_finder.range_test(trainloader, end_lr=100, num_iter=400)\n",
        "lr_finder.plot() # to inspect the loss-learning rate graph\n",
        "lr_finder.reset() # to reset the model and optimizer to their initial state"
      ],
      "execution_count": 11,
      "outputs": [
        {
          "output_type": "display_data",
          "data": {
            "application/vnd.jupyter.widget-view+json": {
              "model_id": "be9736f7aabb4c4fb53bfabc2d0430d4",
              "version_minor": 0,
              "version_major": 2
            },
            "text/plain": [
              "HBox(children=(IntProgress(value=0, max=400), HTML(value='')))"
            ]
          },
          "metadata": {
            "tags": []
          }
        },
        {
          "output_type": "stream",
          "text": [
            "Stopping early, the loss has diverged\n",
            "Learning rate search finished. See the graph with {finder_name}.plot()\n"
          ],
          "name": "stdout"
        },
        {
          "output_type": "display_data",
          "data": {
            "image/png": "[encoded data removed]",
            "text/plain": [
              "<Figure size 432x288 with 1 Axes>"
            ]
          },
          "metadata": {
            "tags": []
          }
        }
      ]
    },
    {
      "cell_type": "code",
      "metadata": {
        "id": "aNsBfawZ_tdt",
        "colab_type": "code",
        "colab": {}
      },
      "source": [
        "model =  ResNet18().to(device)\n",
        "optimizer = optim.SGD(model.parameters(), lr=0.02, momentum=0.9)\n",
        "#scheduler = torch.optim.lr_scheduler.MultiStepLR(optimizer, milestones=[30], gamma=0.1)\n",
        "scheduler = torch.optim.lr_scheduler.ReduceLROnPlateau(optimizer, factor=0.1, threshold=0.004, patience = 1, verbose=True)\n",
        "epochs=50\n",
        "input_size=(3,32,32)"
      ],
      "execution_count": 0,
      "outputs": []
    },
    {
      "cell_type": "code",
      "metadata": {
        "id": "ODzTzH6J_yUf",
        "colab_type": "code",
        "colab": {
          "base_uri": "https://localhost:8080/",
          "height": 1000
        },
        "outputId": "c4c57443-4149-4b64-cc56-c28992a171a5"
      },
      "source": [
        "train_losses_without_L1_L2 = []\n",
        "test_losses_without_L1_L2 = []\n",
        "train_acc_without_L1_L2 = []\n",
        "test_acc_without_L1_L2 = []\n",
        "best_loss = 1000.0\n",
        "misclassified_list = {}\n",
        "model_params(model, input_size,device)  \n",
        "\n",
        "for epoch in range(epochs):\n",
        "    print(\"EPOCH: %s LR: %s %s \" % (epoch, get_lr(optimizer),best_loss))\n",
        "    best_loss=train(model, device, trainloader, optimizer, scheduler, epoch, False, train_acc_without_L1_L2, train_losses_without_L1_L2, best_loss)\n",
        "    test(model, device, testloader, test_acc_without_L1_L2, test_losses_without_L1_L2, misclassified_list)\n",
        "    #scheduler.step()\n",
        "plot(train_losses_without_L1_L2,train_acc_without_L1_L2, test_losses_without_L1_L2, test_acc_without_L1_L2, 'without L1 and L2')\n",
        "#save_model(model, '/content/gdrive/My Drive/Assign-8.pth')\n",
        "print(\"mis classified length = \",len(misclassified_list))"
      ],
      "execution_count": 13,
      "outputs": [
        {
          "output_type": "stream",
          "text": [
            "\r  0%|          | 0/391 [00:00<?, ?it/s]"
          ],
          "name": "stderr"
        },
        {
          "output_type": "stream",
          "text": [
            "----------------------------------------------------------------\n",
            "        Layer (type)               Output Shape         Param #\n",
            "================================================================\n",
            "            Conv2d-1           [-1, 64, 32, 32]           1,728\n",
            "       BatchNorm2d-2           [-1, 64, 32, 32]             128\n",
            "            Conv2d-3           [-1, 64, 32, 32]          36,864\n",
            "       BatchNorm2d-4           [-1, 64, 32, 32]             128\n",
            "            Conv2d-5           [-1, 64, 32, 32]          36,864\n",
            "       BatchNorm2d-6           [-1, 64, 32, 32]             128\n",
            "        BasicBlock-7           [-1, 64, 32, 32]               0\n",
            "            Conv2d-8           [-1, 64, 32, 32]          36,864\n",
            "       BatchNorm2d-9           [-1, 64, 32, 32]             128\n",
            "           Conv2d-10           [-1, 64, 32, 32]          36,864\n",
            "      BatchNorm2d-11           [-1, 64, 32, 32]             128\n",
            "       BasicBlock-12           [-1, 64, 32, 32]               0\n",
            "           Conv2d-13          [-1, 128, 16, 16]          73,728\n",
            "      BatchNorm2d-14          [-1, 128, 16, 16]             256\n",
            "           Conv2d-15          [-1, 128, 16, 16]         147,456\n",
            "      BatchNorm2d-16          [-1, 128, 16, 16]             256\n",
            "           Conv2d-17          [-1, 128, 16, 16]           8,192\n",
            "      BatchNorm2d-18          [-1, 128, 16, 16]             256\n",
            "       BasicBlock-19          [-1, 128, 16, 16]               0\n",
            "           Conv2d-20          [-1, 128, 16, 16]         147,456\n",
            "      BatchNorm2d-21          [-1, 128, 16, 16]             256\n",
            "           Conv2d-22          [-1, 128, 16, 16]         147,456\n",
            "      BatchNorm2d-23          [-1, 128, 16, 16]             256\n",
            "       BasicBlock-24          [-1, 128, 16, 16]               0\n",
            "           Conv2d-25            [-1, 256, 8, 8]         294,912\n",
            "      BatchNorm2d-26            [-1, 256, 8, 8]             512\n",
            "           Conv2d-27            [-1, 256, 8, 8]         589,824\n",
            "      BatchNorm2d-28            [-1, 256, 8, 8]             512\n",
            "           Conv2d-29            [-1, 256, 8, 8]          32,768\n",
            "      BatchNorm2d-30            [-1, 256, 8, 8]             512\n",
            "       BasicBlock-31            [-1, 256, 8, 8]               0\n",
            "           Conv2d-32            [-1, 256, 8, 8]         589,824\n",
            "      BatchNorm2d-33            [-1, 256, 8, 8]             512\n",
            "           Conv2d-34            [-1, 256, 8, 8]         589,824\n",
            "      BatchNorm2d-35            [-1, 256, 8, 8]             512\n",
            "       BasicBlock-36            [-1, 256, 8, 8]               0\n",
            "           Conv2d-37            [-1, 512, 4, 4]       1,179,648\n",
            "      BatchNorm2d-38            [-1, 512, 4, 4]           1,024\n",
            "           Conv2d-39            [-1, 512, 4, 4]       2,359,296\n",
            "      BatchNorm2d-40            [-1, 512, 4, 4]           1,024\n",
            "           Conv2d-41            [-1, 512, 4, 4]         131,072\n",
            "      BatchNorm2d-42            [-1, 512, 4, 4]           1,024\n",
            "       BasicBlock-43            [-1, 512, 4, 4]               0\n",
            "           Conv2d-44            [-1, 512, 4, 4]       2,359,296\n",
            "      BatchNorm2d-45            [-1, 512, 4, 4]           1,024\n",
            "           Conv2d-46            [-1, 512, 4, 4]       2,359,296\n",
            "      BatchNorm2d-47            [-1, 512, 4, 4]           1,024\n",
            "       BasicBlock-48            [-1, 512, 4, 4]               0\n",
            "           Linear-49                   [-1, 10]           5,130\n",
            "================================================================\n",
            "Total params: 11,173,962\n",
            "Trainable params: 11,173,962\n",
            "Non-trainable params: 0\n",
            "----------------------------------------------------------------\n",
            "Input size (MB): 0.01\n",
            "Forward/backward pass size (MB): 11.25\n",
            "Params size (MB): 42.63\n",
            "Estimated Total Size (MB): 53.89\n",
            "----------------------------------------------------------------\n",
            "EPOCH: 0 LR: 0.02 1000.0 \n"
          ],
          "name": "stdout"
        },
        {
          "output_type": "stream",
          "text": [
            "Loss=1.236445665359497 Batch_id=390 Accuracy=50.67 running_loss=537.316960811615 threshold=996.0: 100%|██████████| 391/391 [00:34<00:00, 11.44it/s]\n",
            "  0%|          | 0/391 [00:00<?, ?it/s]"
          ],
          "name": "stderr"
        },
        {
          "output_type": "stream",
          "text": [
            "\n",
            "Test set: Average loss: 0.0111, Accuracy: 5408/10000 (54.08%)\n",
            "\n",
            "EPOCH: 1 LR: 0.02 537.316960811615 \n"
          ],
          "name": "stdout"
        },
        {
          "output_type": "stream",
          "text": [
            "Loss=0.6252143383026123 Batch_id=390 Accuracy=70.46 running_loss=326.4559020996094 threshold=535.1676929683686: 100%|██████████| 391/391 [00:34<00:00, 11.43it/s]\n",
            "  0%|          | 0/391 [00:00<?, ?it/s]"
          ],
          "name": "stderr"
        },
        {
          "output_type": "stream",
          "text": [
            "\n",
            "Test set: Average loss: 0.0060, Accuracy: 7349/10000 (73.49%)\n",
            "\n",
            "EPOCH: 2 LR: 0.02 326.4559020996094 \n"
          ],
          "name": "stdout"
        },
        {
          "output_type": "stream",
          "text": [
            "Loss=0.7249572277069092 Batch_id=390 Accuracy=78.17 running_loss=241.71670404076576 threshold=325.15007849121093: 100%|██████████| 391/391 [00:34<00:00, 11.44it/s]\n",
            "  0%|          | 0/391 [00:00<?, ?it/s]"
          ],
          "name": "stderr"
        },
        {
          "output_type": "stream",
          "text": [
            "\n",
            "Test set: Average loss: 0.0051, Accuracy: 7757/10000 (77.57%)\n",
            "\n",
            "EPOCH: 3 LR: 0.02 241.71670404076576 \n"
          ],
          "name": "stdout"
        },
        {
          "output_type": "stream",
          "text": [
            "Loss=0.49496349692344666 Batch_id=390 Accuracy=82.19 running_loss=199.48491623997688 threshold=240.7498372246027: 100%|██████████| 391/391 [00:34<00:00, 11.41it/s]\n",
            "  0%|          | 0/391 [00:00<?, ?it/s]"
          ],
          "name": "stderr"
        },
        {
          "output_type": "stream",
          "text": [
            "\n",
            "Test set: Average loss: 0.0046, Accuracy: 8029/10000 (80.29%)\n",
            "\n",
            "EPOCH: 4 LR: 0.02 199.48491623997688 \n"
          ],
          "name": "stdout"
        },
        {
          "output_type": "stream",
          "text": [
            "Loss=0.4881582260131836 Batch_id=390 Accuracy=85.11 running_loss=167.02954868972301 threshold=198.68697657501698: 100%|██████████| 391/391 [00:34<00:00, 11.39it/s]\n",
            "  0%|          | 0/391 [00:00<?, ?it/s]"
          ],
          "name": "stderr"
        },
        {
          "output_type": "stream",
          "text": [
            "\n",
            "Test set: Average loss: 0.0047, Accuracy: 8019/10000 (80.19%)\n",
            "\n",
            "EPOCH: 5 LR: 0.02 167.02954868972301 \n"
          ],
          "name": "stdout"
        },
        {
          "output_type": "stream",
          "text": [
            "Loss=0.44091635942459106 Batch_id=390 Accuracy=87.57 running_loss=139.58167001605034 threshold=166.3614304949641: 100%|██████████| 391/391 [00:34<00:00, 11.47it/s]\n",
            "  0%|          | 0/391 [00:00<?, ?it/s]"
          ],
          "name": "stderr"
        },
        {
          "output_type": "stream",
          "text": [
            "\n",
            "Test set: Average loss: 0.0041, Accuracy: 8231/10000 (82.31%)\n",
            "\n",
            "EPOCH: 6 LR: 0.02 139.58167001605034 \n"
          ],
          "name": "stdout"
        },
        {
          "output_type": "stream",
          "text": [
            "Loss=0.34922775626182556 Batch_id=390 Accuracy=89.05 running_loss=120.8021976351738 threshold=139.02334333598614: 100%|██████████| 391/391 [00:34<00:00, 11.44it/s]\n",
            "  0%|          | 0/391 [00:00<?, ?it/s]"
          ],
          "name": "stderr"
        },
        {
          "output_type": "stream",
          "text": [
            "\n",
            "Test set: Average loss: 0.0042, Accuracy: 8328/10000 (83.28%)\n",
            "\n",
            "EPOCH: 7 LR: 0.02 120.8021976351738 \n"
          ],
          "name": "stdout"
        },
        {
          "output_type": "stream",
          "text": [
            "Loss=0.18872714042663574 Batch_id=390 Accuracy=90.52 running_loss=106.3667249828577 threshold=120.3189888446331: 100%|██████████| 391/391 [00:34<00:00, 11.40it/s]\n",
            "  0%|          | 0/391 [00:00<?, ?it/s]"
          ],
          "name": "stderr"
        },
        {
          "output_type": "stream",
          "text": [
            "\n",
            "Test set: Average loss: 0.0037, Accuracy: 8487/10000 (84.87%)\n",
            "\n",
            "EPOCH: 8 LR: 0.02 106.3667249828577 \n"
          ],
          "name": "stdout"
        },
        {
          "output_type": "stream",
          "text": [
            "Loss=0.18264615535736084 Batch_id=390 Accuracy=92.21 running_loss=87.21802458167076 threshold=105.94125808292627: 100%|██████████| 391/391 [00:34<00:00, 11.39it/s]\n",
            "  0%|          | 0/391 [00:00<?, ?it/s]"
          ],
          "name": "stderr"
        },
        {
          "output_type": "stream",
          "text": [
            "\n",
            "Test set: Average loss: 0.0043, Accuracy: 8388/10000 (83.88%)\n",
            "\n",
            "EPOCH: 9 LR: 0.02 87.21802458167076 \n"
          ],
          "name": "stdout"
        },
        {
          "output_type": "stream",
          "text": [
            "Loss=0.13713517785072327 Batch_id=390 Accuracy=92.95 running_loss=77.61383806914091 threshold=86.86915248334408: 100%|██████████| 391/391 [00:34<00:00, 11.25it/s]\n",
            "  0%|          | 0/391 [00:00<?, ?it/s]"
          ],
          "name": "stderr"
        },
        {
          "output_type": "stream",
          "text": [
            "\n",
            "Test set: Average loss: 0.0052, Accuracy: 8185/10000 (81.85%)\n",
            "\n",
            "EPOCH: 10 LR: 0.02 77.61383806914091 \n"
          ],
          "name": "stdout"
        },
        {
          "output_type": "stream",
          "text": [
            "Loss=0.10016058385372162 Batch_id=390 Accuracy=94.22 running_loss=64.97370927035809 threshold=77.30338271686435: 100%|██████████| 391/391 [00:34<00:00, 11.29it/s]\n",
            "  0%|          | 0/391 [00:00<?, ?it/s]"
          ],
          "name": "stderr"
        },
        {
          "output_type": "stream",
          "text": [
            "\n",
            "Test set: Average loss: 0.0040, Accuracy: 8578/10000 (85.78%)\n",
            "\n",
            "EPOCH: 11 LR: 0.02 64.97370927035809 \n"
          ],
          "name": "stdout"
        },
        {
          "output_type": "stream",
          "text": [
            "Loss=0.2766954302787781 Batch_id=390 Accuracy=94.70 running_loss=58.556647192686796 threshold=64.71381443327665: 100%|██████████| 391/391 [00:34<00:00, 11.34it/s]\n",
            "  0%|          | 0/391 [00:00<?, ?it/s]"
          ],
          "name": "stderr"
        },
        {
          "output_type": "stream",
          "text": [
            "\n",
            "Test set: Average loss: 0.0042, Accuracy: 8486/10000 (84.86%)\n",
            "\n",
            "EPOCH: 12 LR: 0.02 58.556647192686796 \n"
          ],
          "name": "stdout"
        },
        {
          "output_type": "stream",
          "text": [
            "Loss=0.08765475451946259 Batch_id=390 Accuracy=95.52 running_loss=49.22916280850768 threshold=58.32242060391605: 100%|██████████| 391/391 [00:34<00:00, 11.27it/s]\n",
            "  0%|          | 0/391 [00:00<?, ?it/s]"
          ],
          "name": "stderr"
        },
        {
          "output_type": "stream",
          "text": [
            "\n",
            "Test set: Average loss: 0.0042, Accuracy: 8622/10000 (86.22%)\n",
            "\n",
            "EPOCH: 13 LR: 0.02 49.22916280850768 \n"
          ],
          "name": "stdout"
        },
        {
          "output_type": "stream",
          "text": [
            "Loss=0.051903463900089264 Batch_id=390 Accuracy=96.15 running_loss=42.74557771906257 threshold=49.03224615727365: 100%|██████████| 391/391 [00:34<00:00, 11.23it/s]\n",
            "  0%|          | 0/391 [00:00<?, ?it/s]"
          ],
          "name": "stderr"
        },
        {
          "output_type": "stream",
          "text": [
            "\n",
            "Test set: Average loss: 0.0039, Accuracy: 8618/10000 (86.18%)\n",
            "\n",
            "EPOCH: 14 LR: 0.02 42.74557771906257 \n"
          ],
          "name": "stdout"
        },
        {
          "output_type": "stream",
          "text": [
            "Loss=0.20094843208789825 Batch_id=390 Accuracy=96.69 running_loss=37.66327676549554 threshold=42.57459540818632: 100%|██████████| 391/391 [00:34<00:00, 11.27it/s]\n",
            "  0%|          | 0/391 [00:00<?, ?it/s]"
          ],
          "name": "stderr"
        },
        {
          "output_type": "stream",
          "text": [
            "\n",
            "Test set: Average loss: 0.0042, Accuracy: 8596/10000 (85.96%)\n",
            "\n",
            "EPOCH: 15 LR: 0.02 37.66327676549554 \n"
          ],
          "name": "stdout"
        },
        {
          "output_type": "stream",
          "text": [
            "Loss=0.15426680445671082 Batch_id=390 Accuracy=97.05 running_loss=32.47339405864477 threshold=37.512623658433554: 100%|██████████| 391/391 [00:34<00:00, 11.31it/s]\n",
            "  0%|          | 0/391 [00:00<?, ?it/s]"
          ],
          "name": "stderr"
        },
        {
          "output_type": "stream",
          "text": [
            "\n",
            "Test set: Average loss: 0.0042, Accuracy: 8626/10000 (86.26%)\n",
            "\n",
            "EPOCH: 16 LR: 0.02 32.47339405864477 \n"
          ],
          "name": "stdout"
        },
        {
          "output_type": "stream",
          "text": [
            "Loss=0.0360381118953228 Batch_id=390 Accuracy=97.48 running_loss=28.39476564154029 threshold=32.34350048241019: 100%|██████████| 391/391 [00:34<00:00, 11.39it/s]\n",
            "  0%|          | 0/391 [00:00<?, ?it/s]"
          ],
          "name": "stderr"
        },
        {
          "output_type": "stream",
          "text": [
            "\n",
            "Test set: Average loss: 0.0046, Accuracy: 8646/10000 (86.46%)\n",
            "\n",
            "EPOCH: 17 LR: 0.02 28.39476564154029 \n"
          ],
          "name": "stdout"
        },
        {
          "output_type": "stream",
          "text": [
            "Loss=0.09994007647037506 Batch_id=390 Accuracy=97.65 running_loss=26.704642483964562 threshold=28.28118657897413: 100%|██████████| 391/391 [00:34<00:00, 11.38it/s]\n",
            "  0%|          | 0/391 [00:00<?, ?it/s]"
          ],
          "name": "stderr"
        },
        {
          "output_type": "stream",
          "text": [
            "\n",
            "Test set: Average loss: 0.0044, Accuracy: 8631/10000 (86.31%)\n",
            "\n",
            "EPOCH: 18 LR: 0.02 26.704642483964562 \n"
          ],
          "name": "stdout"
        },
        {
          "output_type": "stream",
          "text": [
            "Loss=0.012962925247848034 Batch_id=390 Accuracy=98.06 running_loss=21.513270781375468 threshold=26.597823914028705: 100%|██████████| 391/391 [00:34<00:00, 11.39it/s]\n",
            "  0%|          | 0/391 [00:00<?, ?it/s]"
          ],
          "name": "stderr"
        },
        {
          "output_type": "stream",
          "text": [
            "\n",
            "Test set: Average loss: 0.0046, Accuracy: 8647/10000 (86.47%)\n",
            "\n",
            "EPOCH: 19 LR: 0.02 21.513270781375468 \n"
          ],
          "name": "stdout"
        },
        {
          "output_type": "stream",
          "text": [
            "Loss=0.018731599673628807 Batch_id=390 Accuracy=98.34 running_loss=18.14790171571076 threshold=21.427217698249965: 100%|██████████| 391/391 [00:34<00:00, 11.41it/s]\n",
            "  0%|          | 0/391 [00:00<?, ?it/s]"
          ],
          "name": "stderr"
        },
        {
          "output_type": "stream",
          "text": [
            "\n",
            "Test set: Average loss: 0.0050, Accuracy: 8574/10000 (85.74%)\n",
            "\n",
            "EPOCH: 20 LR: 0.02 18.14790171571076 \n"
          ],
          "name": "stdout"
        },
        {
          "output_type": "stream",
          "text": [
            "Loss=0.06575523316860199 Batch_id=390 Accuracy=98.34 running_loss=18.492445189505816 threshold=18.075310108847916: 100%|██████████| 391/391 [00:34<00:00, 11.35it/s]\n",
            "  0%|          | 0/391 [00:00<?, ?it/s]"
          ],
          "name": "stderr"
        },
        {
          "output_type": "stream",
          "text": [
            "\n",
            "Test set: Average loss: 0.0055, Accuracy: 8536/10000 (85.36%)\n",
            "\n",
            "EPOCH: 21 LR: 0.02 18.14790171571076 \n"
          ],
          "name": "stdout"
        },
        {
          "output_type": "stream",
          "text": [
            "Loss=0.06244021654129028 Batch_id=390 Accuracy=98.57 running_loss=16.70173260383308 threshold=18.075310108847916: 100%|██████████| 391/391 [00:34<00:00, 11.40it/s]\n",
            "  0%|          | 0/391 [00:00<?, ?it/s]"
          ],
          "name": "stderr"
        },
        {
          "output_type": "stream",
          "text": [
            "\n",
            "Test set: Average loss: 0.0044, Accuracy: 8704/10000 (87.04%)\n",
            "\n",
            "EPOCH: 22 LR: 0.02 16.70173260383308 \n"
          ],
          "name": "stdout"
        },
        {
          "output_type": "stream",
          "text": [
            "Loss=0.048242609947919846 Batch_id=390 Accuracy=98.59 running_loss=15.542469874024391 threshold=16.634925673417747: 100%|██████████| 391/391 [00:34<00:00, 11.36it/s]\n",
            "  0%|          | 0/391 [00:00<?, ?it/s]"
          ],
          "name": "stderr"
        },
        {
          "output_type": "stream",
          "text": [
            "\n",
            "Test set: Average loss: 0.0054, Accuracy: 8538/10000 (85.38%)\n",
            "\n",
            "EPOCH: 23 LR: 0.02 15.542469874024391 \n"
          ],
          "name": "stdout"
        },
        {
          "output_type": "stream",
          "text": [
            "Loss=0.1618877351284027 Batch_id=390 Accuracy=98.81 running_loss=13.802471924573183 threshold=15.480299994528293: 100%|██████████| 391/391 [00:35<00:00, 11.11it/s]\n",
            "  0%|          | 0/391 [00:00<?, ?it/s]"
          ],
          "name": "stderr"
        },
        {
          "output_type": "stream",
          "text": [
            "\n",
            "Test set: Average loss: 0.0049, Accuracy: 8667/10000 (86.67%)\n",
            "\n",
            "EPOCH: 24 LR: 0.02 13.802471924573183 \n"
          ],
          "name": "stdout"
        },
        {
          "output_type": "stream",
          "text": [
            "Loss=0.05390577390789986 Batch_id=390 Accuracy=98.86 running_loss=12.72567425481975 threshold=13.74726203687489: 100%|██████████| 391/391 [00:34<00:00, 11.29it/s]\n",
            "  0%|          | 0/391 [00:00<?, ?it/s]"
          ],
          "name": "stderr"
        },
        {
          "output_type": "stream",
          "text": [
            "\n",
            "Test set: Average loss: 0.0045, Accuracy: 8765/10000 (87.65%)\n",
            "\n",
            "EPOCH: 25 LR: 0.02 12.72567425481975 \n"
          ],
          "name": "stdout"
        },
        {
          "output_type": "stream",
          "text": [
            "Loss=0.052628230303525925 Batch_id=390 Accuracy=99.09 running_loss=10.458643211051822 threshold=12.674771557800472: 100%|██████████| 391/391 [00:34<00:00, 11.29it/s]\n",
            "  0%|          | 0/391 [00:00<?, ?it/s]"
          ],
          "name": "stderr"
        },
        {
          "output_type": "stream",
          "text": [
            "\n",
            "Test set: Average loss: 0.0049, Accuracy: 8717/10000 (87.17%)\n",
            "\n",
            "EPOCH: 26 LR: 0.02 10.458643211051822 \n"
          ],
          "name": "stdout"
        },
        {
          "output_type": "stream",
          "text": [
            "Loss=0.10597164928913116 Batch_id=390 Accuracy=99.08 running_loss=10.225576631724834 threshold=10.416808638207614: 100%|██████████| 391/391 [00:34<00:00, 11.40it/s]\n",
            "  0%|          | 0/391 [00:00<?, ?it/s]"
          ],
          "name": "stderr"
        },
        {
          "output_type": "stream",
          "text": [
            "\n",
            "Test set: Average loss: 0.0051, Accuracy: 8696/10000 (86.96%)\n",
            "\n",
            "EPOCH: 27 LR: 0.02 10.225576631724834 \n"
          ],
          "name": "stdout"
        },
        {
          "output_type": "stream",
          "text": [
            "Loss=0.14143384993076324 Batch_id=390 Accuracy=98.92 running_loss=12.42376341857016 threshold=10.184674325197935: 100%|██████████| 391/391 [00:34<00:00, 11.36it/s]\n",
            "  0%|          | 0/391 [00:00<?, ?it/s]"
          ],
          "name": "stderr"
        },
        {
          "output_type": "stream",
          "text": [
            "\n",
            "Test set: Average loss: 0.0047, Accuracy: 8757/10000 (87.57%)\n",
            "\n",
            "EPOCH: 28 LR: 0.02 10.225576631724834 \n"
          ],
          "name": "stdout"
        },
        {
          "output_type": "stream",
          "text": [
            "Loss=0.005721378140151501 Batch_id=390 Accuracy=99.25 running_loss=8.425404242239892 threshold=10.184674325197935: 100%|██████████| 391/391 [00:34<00:00, 11.26it/s]\n",
            "  0%|          | 0/391 [00:00<?, ?it/s]"
          ],
          "name": "stderr"
        },
        {
          "output_type": "stream",
          "text": [
            "\n",
            "Test set: Average loss: 0.0047, Accuracy: 8749/10000 (87.49%)\n",
            "\n",
            "EPOCH: 29 LR: 0.02 8.425404242239892 \n"
          ],
          "name": "stdout"
        },
        {
          "output_type": "stream",
          "text": [
            "Loss=0.02502650022506714 Batch_id=390 Accuracy=99.27 running_loss=8.333938280120492 threshold=8.391702625270932: 100%|██████████| 391/391 [00:34<00:00, 11.24it/s]\n",
            "  0%|          | 0/391 [00:00<?, ?it/s]"
          ],
          "name": "stderr"
        },
        {
          "output_type": "stream",
          "text": [
            "\n",
            "Test set: Average loss: 0.0053, Accuracy: 8710/10000 (87.10%)\n",
            "\n",
            "EPOCH: 30 LR: 0.02 8.333938280120492 \n"
          ],
          "name": "stdout"
        },
        {
          "output_type": "stream",
          "text": [
            "Loss=0.024485206231474876 Batch_id=390 Accuracy=99.28 running_loss=8.834778442978859 threshold=8.30060252700001: 100%|██████████| 391/391 [00:34<00:00, 11.26it/s]\n",
            "  0%|          | 0/391 [00:00<?, ?it/s]"
          ],
          "name": "stderr"
        },
        {
          "output_type": "stream",
          "text": [
            "\n",
            "Test set: Average loss: 0.0049, Accuracy: 8772/10000 (87.72%)\n",
            "\n",
            "EPOCH: 31 LR: 0.02 8.333938280120492 \n"
          ],
          "name": "stdout"
        },
        {
          "output_type": "stream",
          "text": [
            "Loss=0.010619068518280983 Batch_id=390 Accuracy=99.37 running_loss=7.233528742566705 threshold=8.30060252700001: 100%|██████████| 391/391 [00:34<00:00, 11.30it/s]\n",
            "  0%|          | 0/391 [00:00<?, ?it/s]"
          ],
          "name": "stderr"
        },
        {
          "output_type": "stream",
          "text": [
            "\n",
            "Test set: Average loss: 0.0048, Accuracy: 8814/10000 (88.14%)\n",
            "\n",
            "EPOCH: 32 LR: 0.02 7.233528742566705 \n"
          ],
          "name": "stdout"
        },
        {
          "output_type": "stream",
          "text": [
            "Loss=0.002446293830871582 Batch_id=390 Accuracy=99.48 running_loss=6.4584555104374886 threshold=7.204594627596438: 100%|██████████| 391/391 [00:34<00:00, 11.26it/s]\n",
            "  0%|          | 0/391 [00:00<?, ?it/s]"
          ],
          "name": "stderr"
        },
        {
          "output_type": "stream",
          "text": [
            "\n",
            "Test set: Average loss: 0.0049, Accuracy: 8793/10000 (87.93%)\n",
            "\n",
            "EPOCH: 33 LR: 0.02 6.4584555104374886 \n"
          ],
          "name": "stdout"
        },
        {
          "output_type": "stream",
          "text": [
            "Loss=0.002901411149650812 Batch_id=390 Accuracy=99.55 running_loss=5.618909731972963 threshold=6.432621688395739: 100%|██████████| 391/391 [00:34<00:00, 11.31it/s]\n",
            "  0%|          | 0/391 [00:00<?, ?it/s]"
          ],
          "name": "stderr"
        },
        {
          "output_type": "stream",
          "text": [
            "\n",
            "Test set: Average loss: 0.0048, Accuracy: 8789/10000 (87.89%)\n",
            "\n",
            "EPOCH: 34 LR: 0.02 5.618909731972963 \n"
          ],
          "name": "stdout"
        },
        {
          "output_type": "stream",
          "text": [
            "Loss=0.04869136959314346 Batch_id=390 Accuracy=99.49 running_loss=5.854274403303862 threshold=5.596434093045071: 100%|██████████| 391/391 [00:34<00:00, 11.37it/s]\n",
            "  0%|          | 0/391 [00:00<?, ?it/s]"
          ],
          "name": "stderr"
        },
        {
          "output_type": "stream",
          "text": [
            "\n",
            "Test set: Average loss: 0.0051, Accuracy: 8759/10000 (87.59%)\n",
            "\n",
            "EPOCH: 35 LR: 0.02 5.618909731972963 \n"
          ],
          "name": "stdout"
        },
        {
          "output_type": "stream",
          "text": [
            "Loss=0.018748372793197632 Batch_id=390 Accuracy=99.54 running_loss=5.157988423481584 threshold=5.596434093045071: 100%|██████████| 391/391 [00:34<00:00, 11.34it/s]\n",
            "  0%|          | 0/391 [00:00<?, ?it/s]"
          ],
          "name": "stderr"
        },
        {
          "output_type": "stream",
          "text": [
            "\n",
            "Test set: Average loss: 0.0051, Accuracy: 8785/10000 (87.85%)\n",
            "\n",
            "EPOCH: 36 LR: 0.02 5.157988423481584 \n"
          ],
          "name": "stdout"
        },
        {
          "output_type": "stream",
          "text": [
            "Loss=0.03224160522222519 Batch_id=390 Accuracy=99.53 running_loss=5.303971003741026 threshold=5.137356469787657: 100%|██████████| 391/391 [00:34<00:00, 11.38it/s]\n",
            "  0%|          | 0/391 [00:00<?, ?it/s]"
          ],
          "name": "stderr"
        },
        {
          "output_type": "stream",
          "text": [
            "\n",
            "Test set: Average loss: 0.0050, Accuracy: 8763/10000 (87.63%)\n",
            "\n",
            "EPOCH: 37 LR: 0.02 5.157988423481584 \n"
          ],
          "name": "stdout"
        },
        {
          "output_type": "stream",
          "text": [
            "Loss=0.008454096503555775 Batch_id=390 Accuracy=99.48 running_loss=5.788723603822291 threshold=5.137356469787657: 100%|██████████| 391/391 [00:34<00:00, 11.35it/s]"
          ],
          "name": "stderr"
        },
        {
          "output_type": "stream",
          "text": [
            "Epoch    38: reducing learning rate of group 0 to 2.0000e-03.\n"
          ],
          "name": "stdout"
        },
        {
          "output_type": "stream",
          "text": [
            "\n",
            "  0%|          | 0/391 [00:00<?, ?it/s]"
          ],
          "name": "stderr"
        },
        {
          "output_type": "stream",
          "text": [
            "\n",
            "Test set: Average loss: 0.0053, Accuracy: 8756/10000 (87.56%)\n",
            "\n",
            "EPOCH: 38 LR: 0.002 5.157988423481584 \n"
          ],
          "name": "stdout"
        },
        {
          "output_type": "stream",
          "text": [
            "Loss=0.014223325066268444 Batch_id=390 Accuracy=99.80 running_loss=2.5951506597921252 threshold=5.137356469787657: 100%|██████████| 391/391 [00:34<00:00, 11.36it/s]\n",
            "  0%|          | 0/391 [00:00<?, ?it/s]"
          ],
          "name": "stderr"
        },
        {
          "output_type": "stream",
          "text": [
            "\n",
            "Test set: Average loss: 0.0046, Accuracy: 8881/10000 (88.81%)\n",
            "\n",
            "EPOCH: 39 LR: 0.002 2.5951506597921252 \n"
          ],
          "name": "stdout"
        },
        {
          "output_type": "stream",
          "text": [
            "Loss=0.0013562440872192383 Batch_id=390 Accuracy=99.90 running_loss=1.4975652396678925 threshold=2.584770057152957: 100%|██████████| 391/391 [00:34<00:00, 11.38it/s]\n",
            "  0%|          | 0/391 [00:00<?, ?it/s]"
          ],
          "name": "stderr"
        },
        {
          "output_type": "stream",
          "text": [
            "\n",
            "Test set: Average loss: 0.0046, Accuracy: 8902/10000 (89.02%)\n",
            "\n",
            "EPOCH: 40 LR: 0.002 1.4975652396678925 \n"
          ],
          "name": "stdout"
        },
        {
          "output_type": "stream",
          "text": [
            "Loss=0.0014934539794921875 Batch_id=390 Accuracy=99.94 running_loss=1.1572633869946003 threshold=1.491574978709221: 100%|██████████| 391/391 [00:34<00:00, 11.38it/s]\n",
            "  0%|          | 0/391 [00:00<?, ?it/s]"
          ],
          "name": "stderr"
        },
        {
          "output_type": "stream",
          "text": [
            "\n",
            "Test set: Average loss: 0.0046, Accuracy: 8905/10000 (89.05%)\n",
            "\n",
            "EPOCH: 41 LR: 0.002 1.1572633869946003 \n"
          ],
          "name": "stdout"
        },
        {
          "output_type": "stream",
          "text": [
            "Loss=0.012427568435668945 Batch_id=390 Accuracy=99.94 running_loss=1.0313838720321655 threshold=1.1526343334466218: 100%|██████████| 391/391 [00:34<00:00, 11.38it/s]\n",
            "  0%|          | 0/391 [00:00<?, ?it/s]"
          ],
          "name": "stderr"
        },
        {
          "output_type": "stream",
          "text": [
            "\n",
            "Test set: Average loss: 0.0045, Accuracy: 8919/10000 (89.19%)\n",
            "\n",
            "EPOCH: 42 LR: 0.002 1.0313838720321655 \n"
          ],
          "name": "stdout"
        },
        {
          "output_type": "stream",
          "text": [
            "Loss=0.0008264422649517655 Batch_id=390 Accuracy=99.94 running_loss=1.019735922687687 threshold=1.0272583365440369: 100%|██████████| 391/391 [00:34<00:00, 11.36it/s]\n",
            "  0%|          | 0/391 [00:00<?, ?it/s]"
          ],
          "name": "stderr"
        },
        {
          "output_type": "stream",
          "text": [
            "\n",
            "Test set: Average loss: 0.0045, Accuracy: 8921/10000 (89.21%)\n",
            "\n",
            "EPOCH: 43 LR: 0.002 1.019735922687687 \n"
          ],
          "name": "stdout"
        },
        {
          "output_type": "stream",
          "text": [
            "Loss=0.0003703951952047646 Batch_id=390 Accuracy=99.97 running_loss=0.7231989883002825 threshold=1.0156569789969363: 100%|██████████| 391/391 [00:34<00:00, 11.34it/s]\n",
            "  0%|          | 0/391 [00:00<?, ?it/s]"
          ],
          "name": "stderr"
        },
        {
          "output_type": "stream",
          "text": [
            "\n",
            "Test set: Average loss: 0.0045, Accuracy: 8908/10000 (89.08%)\n",
            "\n",
            "EPOCH: 44 LR: 0.002 0.7231989883002825 \n"
          ],
          "name": "stdout"
        },
        {
          "output_type": "stream",
          "text": [
            "Loss=0.0018803596030920744 Batch_id=390 Accuracy=99.96 running_loss=0.7539601929020137 threshold=0.7203061923470814: 100%|██████████| 391/391 [00:34<00:00, 11.37it/s]\n",
            "  0%|          | 0/391 [00:00<?, ?it/s]"
          ],
          "name": "stderr"
        },
        {
          "output_type": "stream",
          "text": [
            "\n",
            "Test set: Average loss: 0.0045, Accuracy: 8906/10000 (89.06%)\n",
            "\n",
            "EPOCH: 45 LR: 0.002 0.7231989883002825 \n"
          ],
          "name": "stdout"
        },
        {
          "output_type": "stream",
          "text": [
            "Loss=0.0005025506252422929 Batch_id=390 Accuracy=99.98 running_loss=0.5956033744150773 threshold=0.7203061923470814: 100%|██████████| 391/391 [00:34<00:00, 11.21it/s]\n",
            "  0%|          | 0/391 [00:00<?, ?it/s]"
          ],
          "name": "stderr"
        },
        {
          "output_type": "stream",
          "text": [
            "\n",
            "Test set: Average loss: 0.0045, Accuracy: 8916/10000 (89.16%)\n",
            "\n",
            "EPOCH: 46 LR: 0.002 0.5956033744150773 \n"
          ],
          "name": "stdout"
        },
        {
          "output_type": "stream",
          "text": [
            "Loss=3.78966324205976e-05 Batch_id=390 Accuracy=99.98 running_loss=0.5517797797911044 threshold=0.5932209609174169: 100%|██████████| 391/391 [00:34<00:00, 11.33it/s]\n",
            "  0%|          | 0/391 [00:00<?, ?it/s]"
          ],
          "name": "stderr"
        },
        {
          "output_type": "stream",
          "text": [
            "\n",
            "Test set: Average loss: 0.0045, Accuracy: 8916/10000 (89.16%)\n",
            "\n",
            "EPOCH: 47 LR: 0.002 0.5517797797911044 \n"
          ],
          "name": "stdout"
        },
        {
          "output_type": "stream",
          "text": [
            "Loss=0.0001987695723073557 Batch_id=390 Accuracy=99.98 running_loss=0.4892881058185594 threshold=0.54957266067194: 100%|██████████| 391/391 [00:42<00:00,  9.15it/s]\n",
            "  0%|          | 0/391 [00:00<?, ?it/s]"
          ],
          "name": "stderr"
        },
        {
          "output_type": "stream",
          "text": [
            "\n",
            "Test set: Average loss: 0.0045, Accuracy: 8908/10000 (89.08%)\n",
            "\n",
            "EPOCH: 48 LR: 0.002 0.4892881058185594 \n"
          ],
          "name": "stdout"
        },
        {
          "output_type": "stream",
          "text": [
            "Loss=0.0010013222927227616 Batch_id=390 Accuracy=99.97 running_loss=0.5383686252171174 threshold=0.48733095339528515: 100%|██████████| 391/391 [00:35<00:00, 11.04it/s]\n",
            "  0%|          | 0/391 [00:00<?, ?it/s]"
          ],
          "name": "stderr"
        },
        {
          "output_type": "stream",
          "text": [
            "\n",
            "Test set: Average loss: 0.0045, Accuracy: 8907/10000 (89.07%)\n",
            "\n",
            "EPOCH: 49 LR: 0.002 0.4892881058185594 \n"
          ],
          "name": "stdout"
        },
        {
          "output_type": "stream",
          "text": [
            "Loss=0.0014820576179772615 Batch_id=390 Accuracy=99.98 running_loss=0.4602493897546083 threshold=0.48733095339528515: 100%|██████████| 391/391 [00:35<00:00, 11.03it/s]\n"
          ],
          "name": "stderr"
        },
        {
          "output_type": "stream",
          "text": [
            "\n",
            "Test set: Average loss: 0.0045, Accuracy: 8916/10000 (89.16%)\n",
            "\n",
            "mis classified length =  71820\n"
          ],
          "name": "stdout"
        },
        {
          "output_type": "display_data",
          "data": {
            "image/png": "[encoded data removed]",
            "text/plain": [
              "<Figure size 1440x576 with 2 Axes>"
            ]
          },
          "metadata": {
            "tags": []
          }
        }
      ]
    },
    {
      "cell_type": "code",
      "metadata": {
        "id": "7DIWu1rP1-rx",
        "colab_type": "code",
        "colab": {}
      },
      "source": [
        "gradcam_list=[]\n",
        "for i in range(25):\n",
        "  file_name = \"Assign-10-\"+str(i)+\".png\"\n",
        "  gradcam_list.append(file_name)\n",
        "  save_image(torch.from_numpy(misclassified_list[i][2]), file_name)"
      ],
      "execution_count": 0,
      "outputs": []
    },
    {
      "cell_type": "code",
      "metadata": {
        "id": "eCqLW2p77fxv",
        "colab_type": "code",
        "colab": {
          "base_uri": "https://localhost:8080/",
          "height": 523
        },
        "outputId": "5500dc48-d8c6-4547-fb42-fa349c44fe87"
      },
      "source": [
        "grad_image_list=demo1(gradcam_list,\"layer4.1.shortcut\",\"resnet18\" ,10,\"/content/gdrive/My Drive/Colab Notebooks/CNN_Utility\", True, model)"
      ],
      "execution_count": 15,
      "outputs": [
        {
          "output_type": "stream",
          "text": [
            "Device: Tesla P100-PCIE-16GB\n",
            "Images: ['Assign-10-0.png', 'Assign-10-1.png', 'Assign-10-2.png', 'Assign-10-3.png', 'Assign-10-4.png', 'Assign-10-5.png', 'Assign-10-6.png', 'Assign-10-7.png', 'Assign-10-8.png', 'Assign-10-9.png', 'Assign-10-10.png', 'Assign-10-11.png', 'Assign-10-12.png', 'Assign-10-13.png', 'Assign-10-14.png', 'Assign-10-15.png', 'Assign-10-16.png', 'Assign-10-17.png', 'Assign-10-18.png', 'Assign-10-19.png', 'Assign-10-20.png', 'Assign-10-21.png', 'Assign-10-22.png', 'Assign-10-23.png', 'Assign-10-24.png']\n",
            "\t#0: Assign-10-0.png\n",
            "\t#1: Assign-10-1.png\n",
            "\t#2: Assign-10-2.png\n",
            "\t#3: Assign-10-3.png\n",
            "\t#4: Assign-10-4.png\n",
            "\t#5: Assign-10-5.png\n",
            "\t#6: Assign-10-6.png\n",
            "\t#7: Assign-10-7.png\n",
            "\t#8: Assign-10-8.png\n",
            "\t#9: Assign-10-9.png\n",
            "\t#10: Assign-10-10.png\n",
            "\t#11: Assign-10-11.png\n",
            "\t#12: Assign-10-12.png\n",
            "\t#13: Assign-10-13.png\n",
            "\t#14: Assign-10-14.png\n",
            "\t#15: Assign-10-15.png\n",
            "\t#16: Assign-10-16.png\n",
            "\t#17: Assign-10-17.png\n",
            "\t#18: Assign-10-18.png\n",
            "\t#19: Assign-10-19.png\n",
            "\t#20: Assign-10-20.png\n",
            "\t#21: Assign-10-21.png\n",
            "\t#22: Assign-10-22.png\n",
            "\t#23: Assign-10-23.png\n",
            "\t#24: Assign-10-24.png\n",
            "Grad-CAM/Guided Backpropagation/Guided Grad-CAM:\n"
          ],
          "name": "stdout"
        }
      ]
    },
    {
      "cell_type": "code",
      "metadata": {
        "id": "6CfpjFiJ7vsE",
        "colab_type": "code",
        "colab": {
          "base_uri": "https://localhost:8080/",
          "height": 722
        },
        "outputId": "2fbbfc5e-b469-417b-ef1c-6cde104946cc"
      },
      "source": [
        "classes = ['plane', 'car', 'bird', 'cat','deer', 'dog', 'frog', 'horse', 'ship', 'truck']\n",
        "plot_misclassified_gradcam_images(misclassified_list,grad_image_list, classes,'misclassified-gradcam-images.png')"
      ],
      "execution_count": 16,
      "outputs": [
        {
          "output_type": "display_data",
          "data": {
            "image/png": "[encoded data removed]",
            "text/plain": [
              "<Figure size 720x720 with 25 Axes>"
            ]
          },
          "metadata": {
            "tags": []
          }
        }
      ]
    }
  ]
}