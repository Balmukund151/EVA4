{
  "nbformat": 4,
  "nbformat_minor": 0,
  "metadata": {
    "colab": {
      "name": "Assignment_9_Main_Notebook.ipynb",
      "provenance": [],
      "collapsed_sections": []
    },
    "kernelspec": {
      "name": "python3",
      "display_name": "Python 3"
    },
    "accelerator": "GPU"
  },
  "cells": [
    {
      "cell_type": "code",
      "metadata": {
        "id": "4hIlzG8Yt-iN",
        "colab_type": "code",
        "outputId": "5342b229-250e-4fe9-dadf-5d7a0dff457b",
        "colab": {
          "base_uri": "https://localhost:8080/",
          "height": 87
        }
      },
      "source": [
        "!pip install import-ipynb\n",
        "import import_ipynb\n",
        "#from __future__ import print_function\n",
        "import torch\n",
        "import torch.nn as nn\n",
        "import torch.nn.functional as F\n",
        "import torch.optim as optim\n",
        "from torchvision import datasets, transforms\n",
        "!pip install torchsummary\n",
        "from torchsummary import summary\n",
        "from tqdm import tqdm\n",
        "%matplotlib inline\n",
        "import matplotlib.pyplot as plt\n",
        "import matplotlib.image as mpimg\n",
        "from torchvision.transforms import ToPILImage\n",
        "from torchvision.utils import save_image\n",
        "import os\n",
        "from PIL import Image\n",
        "%load_ext autoreload\n",
        "%autoreload 2"
      ],
      "execution_count": 41,
      "outputs": [
        {
          "output_type": "stream",
          "text": [
            "Requirement already satisfied: import-ipynb in /usr/local/lib/python3.6/dist-packages (0.1.3)\n",
            "Requirement already satisfied: torchsummary in /usr/local/lib/python3.6/dist-packages (1.5.1)\n",
            "The autoreload extension is already loaded. To reload it, use:\n",
            "  %reload_ext autoreload\n"
          ],
          "name": "stdout"
        }
      ]
    },
    {
      "cell_type": "code",
      "metadata": {
        "id": "_1li6-VCuGKM",
        "colab_type": "code",
        "colab": {}
      },
      "source": [
        "use_cuda = torch.cuda.is_available()\n",
        "device = torch.device(\"cuda\" if use_cuda else \"cpu\")"
      ],
      "execution_count": 0,
      "outputs": []
    },
    {
      "cell_type": "code",
      "metadata": {
        "id": "xQBSlOfXuRmH",
        "colab_type": "code",
        "outputId": "dbab4359-3e50-4a6f-99b7-f3f9ca76d585",
        "colab": {
          "base_uri": "https://localhost:8080/",
          "height": 124
        }
      },
      "source": [
        "from google.colab import drive\n",
        "drive.mount('/content/gdrive') "
      ],
      "execution_count": 3,
      "outputs": [
        {
          "output_type": "stream",
          "text": [
            "Go to this URL in a browser: https://accounts.google.com/o/oauth2/auth?client_id=947318989803-6bn6qk8qdgf4n4g3pfee6491hc0brc4i.apps.googleusercontent.com&redirect_uri=urn%3aietf%3awg%3aoauth%3a2.0%3aoob&response_type=code&scope=email%20https%3a%2f%2fwww.googleapis.com%2fauth%2fdocs.test%20https%3a%2f%2fwww.googleapis.com%2fauth%2fdrive%20https%3a%2f%2fwww.googleapis.com%2fauth%2fdrive.photos.readonly%20https%3a%2f%2fwww.googleapis.com%2fauth%2fpeopleapi.readonly\n",
            "\n",
            "Enter your authorization code:\n",
            "··········\n",
            "Mounted at /content/gdrive\n"
          ],
          "name": "stdout"
        }
      ]
    },
    {
      "cell_type": "code",
      "metadata": {
        "id": "PXAJhHrTuVK4",
        "colab_type": "code",
        "outputId": "865da329-ff96-493b-fb46-7f9e0be5e831",
        "colab": {
          "base_uri": "https://localhost:8080/",
          "height": 35
        }
      },
      "source": [
        "%cd \"/content/gdrive/My Drive/Colab Notebooks/CNN_Utility\""
      ],
      "execution_count": 4,
      "outputs": [
        {
          "output_type": "stream",
          "text": [
            "/content/gdrive/My Drive/Colab Notebooks/CNN_Utility\n"
          ],
          "name": "stdout"
        }
      ]
    },
    {
      "cell_type": "code",
      "metadata": {
        "id": "JEE2vmQwuk_9",
        "colab_type": "code",
        "colab": {}
      },
      "source": [
        "from dataloaders import train_test_dataloaders,transformations, AlbumentationWrapper\n",
        "from models import BasicBlock,Bottleneck,ResNet,ResNet18,model_params,Net,model_params\n",
        "from graphs_and_other_utility_functions import plot,save_model,get_lr\n",
        "from train_test import train,test\n",
        "import grad_cam\n",
        "from main import demo1"
      ],
      "execution_count": 0,
      "outputs": []
    },
    {
      "cell_type": "code",
      "metadata": {
        "id": "TDZG44JK4Qrx",
        "colab_type": "code",
        "colab": {}
      },
      "source": [
        "train_transforms , test_transforms=AlbumentationWrapper('train'), AlbumentationWrapper('test')"
      ],
      "execution_count": 0,
      "outputs": []
    },
    {
      "cell_type": "code",
      "metadata": {
        "id": "viVjl2p983Ma",
        "colab_type": "code",
        "outputId": "0e1919ce-92dd-4e7c-e96c-5c3e6d08a9e0",
        "colab": {
          "base_uri": "https://localhost:8080/",
          "height": 69
        }
      },
      "source": [
        "trainloader, testloader = train_test_dataloaders(1, 128, 10, train_transforms , test_transforms)"
      ],
      "execution_count": 7,
      "outputs": [
        {
          "output_type": "stream",
          "text": [
            "CUDA Available? True\n",
            "Files already downloaded and verified\n",
            "Files already downloaded and verified\n"
          ],
          "name": "stdout"
        }
      ]
    },
    {
      "cell_type": "code",
      "metadata": {
        "id": "_zF2RwmUH2EH",
        "colab_type": "code",
        "colab": {}
      },
      "source": [
        "#it=iter(trainloader)\n",
        "data,target=next(it)\n",
        "#print(type(data))\n",
        "#print(data.shape)\n",
        "save_image(data[0], 'img1.png')"
      ],
      "execution_count": 0,
      "outputs": []
    },
    {
      "cell_type": "code",
      "metadata": {
        "id": "aNsBfawZ_tdt",
        "colab_type": "code",
        "colab": {}
      },
      "source": [
        "model =  ResNet18().to(device)\n",
        "optimizer = optim.SGD(model.parameters(), lr=0.1, momentum=0.9, weight_decay=5e-4)\n",
        "scheduler = torch.optim.lr_scheduler.MultiStepLR(optimizer, milestones=[10,15,20,28], gamma=0.1)\n",
        "epochs=30\n",
        "input_size=(3,32,32)"
      ],
      "execution_count": 0,
      "outputs": []
    },
    {
      "cell_type": "code",
      "metadata": {
        "id": "ODzTzH6J_yUf",
        "colab_type": "code",
        "outputId": "60af34b4-50d8-41e3-ddba-9ad0adf830a1",
        "colab": {
          "base_uri": "https://localhost:8080/",
          "height": 1000
        }
      },
      "source": [
        "train_losses_without_L1_L2 = []\n",
        "test_losses_without_L1_L2 = []\n",
        "train_acc_without_L1_L2 = []\n",
        "test_acc_without_L1_L2 = []\n",
        "model_params(model, input_size,device)  \n",
        "\n",
        "for epoch in range(epochs):\n",
        "    print(\"EPOCH: %s LR: %s \" % (epoch, get_lr(optimizer)))\n",
        "    train(model, device, trainloader, optimizer, epoch, False, train_acc_without_L1_L2, train_losses_without_L1_L2)\n",
        "    test(model, device, testloader, test_acc_without_L1_L2, test_losses_without_L1_L2, {})\n",
        "    scheduler.step()\n",
        "plot(train_losses_without_L1_L2,train_acc_without_L1_L2, test_losses_without_L1_L2, test_acc_without_L1_L2, 'without L1 and L2')\n",
        "save_model(model, '/content/gdrive/My Drive/Colab Notebooks/CNN_Utility/Assign-9.pth')"
      ],
      "execution_count": 10,
      "outputs": [
        {
          "output_type": "stream",
          "text": [
            "\r  0%|          | 0/391 [00:00<?, ?it/s]"
          ],
          "name": "stderr"
        },
        {
          "output_type": "stream",
          "text": [
            "----------------------------------------------------------------\n",
            "        Layer (type)               Output Shape         Param #\n",
            "================================================================\n",
            "            Conv2d-1           [-1, 64, 32, 32]           1,728\n",
            "       BatchNorm2d-2           [-1, 64, 32, 32]             128\n",
            "            Conv2d-3           [-1, 64, 32, 32]          36,864\n",
            "       BatchNorm2d-4           [-1, 64, 32, 32]             128\n",
            "            Conv2d-5           [-1, 64, 32, 32]          36,864\n",
            "       BatchNorm2d-6           [-1, 64, 32, 32]             128\n",
            "        BasicBlock-7           [-1, 64, 32, 32]               0\n",
            "            Conv2d-8           [-1, 64, 32, 32]          36,864\n",
            "       BatchNorm2d-9           [-1, 64, 32, 32]             128\n",
            "           Conv2d-10           [-1, 64, 32, 32]          36,864\n",
            "      BatchNorm2d-11           [-1, 64, 32, 32]             128\n",
            "       BasicBlock-12           [-1, 64, 32, 32]               0\n",
            "           Conv2d-13          [-1, 128, 16, 16]          73,728\n",
            "      BatchNorm2d-14          [-1, 128, 16, 16]             256\n",
            "           Conv2d-15          [-1, 128, 16, 16]         147,456\n",
            "      BatchNorm2d-16          [-1, 128, 16, 16]             256\n",
            "           Conv2d-17          [-1, 128, 16, 16]           8,192\n",
            "      BatchNorm2d-18          [-1, 128, 16, 16]             256\n",
            "       BasicBlock-19          [-1, 128, 16, 16]               0\n",
            "           Conv2d-20          [-1, 128, 16, 16]         147,456\n",
            "      BatchNorm2d-21          [-1, 128, 16, 16]             256\n",
            "           Conv2d-22          [-1, 128, 16, 16]         147,456\n",
            "      BatchNorm2d-23          [-1, 128, 16, 16]             256\n",
            "       BasicBlock-24          [-1, 128, 16, 16]               0\n",
            "           Conv2d-25            [-1, 256, 8, 8]         294,912\n",
            "      BatchNorm2d-26            [-1, 256, 8, 8]             512\n",
            "           Conv2d-27            [-1, 256, 8, 8]         589,824\n",
            "      BatchNorm2d-28            [-1, 256, 8, 8]             512\n",
            "           Conv2d-29            [-1, 256, 8, 8]          32,768\n",
            "      BatchNorm2d-30            [-1, 256, 8, 8]             512\n",
            "       BasicBlock-31            [-1, 256, 8, 8]               0\n",
            "           Conv2d-32            [-1, 256, 8, 8]         589,824\n",
            "      BatchNorm2d-33            [-1, 256, 8, 8]             512\n",
            "           Conv2d-34            [-1, 256, 8, 8]         589,824\n",
            "      BatchNorm2d-35            [-1, 256, 8, 8]             512\n",
            "       BasicBlock-36            [-1, 256, 8, 8]               0\n",
            "           Conv2d-37            [-1, 512, 4, 4]       1,179,648\n",
            "      BatchNorm2d-38            [-1, 512, 4, 4]           1,024\n",
            "           Conv2d-39            [-1, 512, 4, 4]       2,359,296\n",
            "      BatchNorm2d-40            [-1, 512, 4, 4]           1,024\n",
            "           Conv2d-41            [-1, 512, 4, 4]         131,072\n",
            "      BatchNorm2d-42            [-1, 512, 4, 4]           1,024\n",
            "       BasicBlock-43            [-1, 512, 4, 4]               0\n",
            "           Conv2d-44            [-1, 512, 4, 4]       2,359,296\n",
            "      BatchNorm2d-45            [-1, 512, 4, 4]           1,024\n",
            "           Conv2d-46            [-1, 512, 4, 4]       2,359,296\n",
            "      BatchNorm2d-47            [-1, 512, 4, 4]           1,024\n",
            "       BasicBlock-48            [-1, 512, 4, 4]               0\n",
            "           Linear-49                   [-1, 10]           5,130\n",
            "================================================================\n",
            "Total params: 11,173,962\n",
            "Trainable params: 11,173,962\n",
            "Non-trainable params: 0\n",
            "----------------------------------------------------------------\n",
            "Input size (MB): 0.01\n",
            "Forward/backward pass size (MB): 11.25\n",
            "Params size (MB): 42.63\n",
            "Estimated Total Size (MB): 53.89\n",
            "----------------------------------------------------------------\n",
            "EPOCH: 0 LR: 0.1 \n"
          ],
          "name": "stdout"
        },
        {
          "output_type": "stream",
          "text": [
            "Loss=1.731925368309021 Batch_id=390 Accuracy=29.16: 100%|██████████| 391/391 [00:53<00:00,  7.30it/s]\n",
            "  0%|          | 0/391 [00:00<?, ?it/s]"
          ],
          "name": "stderr"
        },
        {
          "output_type": "stream",
          "text": [
            "\n",
            "Test set: Average loss: 0.0124, Accuracy: 4113/10000 (41.13%)\n",
            "\n",
            "EPOCH: 1 LR: 0.1 \n"
          ],
          "name": "stdout"
        },
        {
          "output_type": "stream",
          "text": [
            "Loss=1.2973048686981201 Batch_id=390 Accuracy=47.40: 100%|██████████| 391/391 [00:54<00:00,  7.23it/s]\n",
            "  0%|          | 0/391 [00:00<?, ?it/s]"
          ],
          "name": "stderr"
        },
        {
          "output_type": "stream",
          "text": [
            "\n",
            "Test set: Average loss: 0.0106, Accuracy: 5158/10000 (51.58%)\n",
            "\n",
            "EPOCH: 2 LR: 0.1 \n"
          ],
          "name": "stdout"
        },
        {
          "output_type": "stream",
          "text": [
            "Loss=1.196051001548767 Batch_id=390 Accuracy=56.98: 100%|██████████| 391/391 [00:54<00:00,  7.14it/s]\n",
            "  0%|          | 0/391 [00:00<?, ?it/s]"
          ],
          "name": "stderr"
        },
        {
          "output_type": "stream",
          "text": [
            "\n",
            "Test set: Average loss: 0.0084, Accuracy: 6161/10000 (61.61%)\n",
            "\n",
            "EPOCH: 3 LR: 0.1 \n"
          ],
          "name": "stdout"
        },
        {
          "output_type": "stream",
          "text": [
            "Loss=0.8427812457084656 Batch_id=390 Accuracy=65.07: 100%|██████████| 391/391 [00:55<00:00,  7.10it/s]\n",
            "  0%|          | 0/391 [00:00<?, ?it/s]"
          ],
          "name": "stderr"
        },
        {
          "output_type": "stream",
          "text": [
            "\n",
            "Test set: Average loss: 0.0082, Accuracy: 6304/10000 (63.04%)\n",
            "\n",
            "EPOCH: 4 LR: 0.1 \n"
          ],
          "name": "stdout"
        },
        {
          "output_type": "stream",
          "text": [
            "Loss=0.6355878114700317 Batch_id=390 Accuracy=71.27: 100%|██████████| 391/391 [00:55<00:00,  7.03it/s]\n",
            "  0%|          | 0/391 [00:00<?, ?it/s]"
          ],
          "name": "stderr"
        },
        {
          "output_type": "stream",
          "text": [
            "\n",
            "Test set: Average loss: 0.0065, Accuracy: 7164/10000 (71.64%)\n",
            "\n",
            "EPOCH: 5 LR: 0.1 \n"
          ],
          "name": "stdout"
        },
        {
          "output_type": "stream",
          "text": [
            "Loss=0.6987928152084351 Batch_id=390 Accuracy=75.98: 100%|██████████| 391/391 [00:55<00:00,  7.03it/s]\n",
            "  0%|          | 0/391 [00:00<?, ?it/s]"
          ],
          "name": "stderr"
        },
        {
          "output_type": "stream",
          "text": [
            "\n",
            "Test set: Average loss: 0.0078, Accuracy: 6542/10000 (65.42%)\n",
            "\n",
            "EPOCH: 6 LR: 0.1 \n"
          ],
          "name": "stdout"
        },
        {
          "output_type": "stream",
          "text": [
            "Loss=0.6756076216697693 Batch_id=390 Accuracy=79.12: 100%|██████████| 391/391 [00:56<00:00,  6.96it/s]\n",
            "  0%|          | 0/391 [00:00<?, ?it/s]"
          ],
          "name": "stderr"
        },
        {
          "output_type": "stream",
          "text": [
            "\n",
            "Test set: Average loss: 0.0054, Accuracy: 7620/10000 (76.20%)\n",
            "\n",
            "EPOCH: 7 LR: 0.1 \n"
          ],
          "name": "stdout"
        },
        {
          "output_type": "stream",
          "text": [
            "Loss=0.5524809956550598 Batch_id=390 Accuracy=81.16: 100%|██████████| 391/391 [00:56<00:00,  6.97it/s]\n",
            "  0%|          | 0/391 [00:00<?, ?it/s]"
          ],
          "name": "stderr"
        },
        {
          "output_type": "stream",
          "text": [
            "\n",
            "Test set: Average loss: 0.0049, Accuracy: 7829/10000 (78.29%)\n",
            "\n",
            "EPOCH: 8 LR: 0.1 \n"
          ],
          "name": "stdout"
        },
        {
          "output_type": "stream",
          "text": [
            "Loss=0.7179192304611206 Batch_id=390 Accuracy=82.56: 100%|██████████| 391/391 [00:56<00:00,  6.98it/s]\n",
            "  0%|          | 0/391 [00:00<?, ?it/s]"
          ],
          "name": "stderr"
        },
        {
          "output_type": "stream",
          "text": [
            "\n",
            "Test set: Average loss: 0.0047, Accuracy: 8049/10000 (80.49%)\n",
            "\n",
            "EPOCH: 9 LR: 0.1 \n"
          ],
          "name": "stdout"
        },
        {
          "output_type": "stream",
          "text": [
            "Loss=0.6099838018417358 Batch_id=390 Accuracy=83.55: 100%|██████████| 391/391 [00:56<00:00,  6.96it/s]\n",
            "  0%|          | 0/391 [00:00<?, ?it/s]"
          ],
          "name": "stderr"
        },
        {
          "output_type": "stream",
          "text": [
            "\n",
            "Test set: Average loss: 0.0049, Accuracy: 7923/10000 (79.23%)\n",
            "\n",
            "EPOCH: 10 LR: 0.010000000000000002 \n"
          ],
          "name": "stdout"
        },
        {
          "output_type": "stream",
          "text": [
            "Loss=0.22648051381111145 Batch_id=390 Accuracy=90.45: 100%|██████████| 391/391 [00:55<00:00,  6.98it/s]\n",
            "  0%|          | 0/391 [00:00<?, ?it/s]"
          ],
          "name": "stderr"
        },
        {
          "output_type": "stream",
          "text": [
            "\n",
            "Test set: Average loss: 0.0029, Accuracy: 8754/10000 (87.54%)\n",
            "\n",
            "EPOCH: 11 LR: 0.010000000000000002 \n"
          ],
          "name": "stdout"
        },
        {
          "output_type": "stream",
          "text": [
            "Loss=0.13364669680595398 Batch_id=390 Accuracy=92.69: 100%|██████████| 391/391 [00:56<00:00,  6.96it/s]\n",
            "  0%|          | 0/391 [00:00<?, ?it/s]"
          ],
          "name": "stderr"
        },
        {
          "output_type": "stream",
          "text": [
            "\n",
            "Test set: Average loss: 0.0029, Accuracy: 8794/10000 (87.94%)\n",
            "\n",
            "EPOCH: 12 LR: 0.010000000000000002 \n"
          ],
          "name": "stdout"
        },
        {
          "output_type": "stream",
          "text": [
            "Loss=0.21647357940673828 Batch_id=390 Accuracy=93.99: 100%|██████████| 391/391 [00:56<00:00,  6.96it/s]\n",
            "  0%|          | 0/391 [00:00<?, ?it/s]"
          ],
          "name": "stderr"
        },
        {
          "output_type": "stream",
          "text": [
            "\n",
            "Test set: Average loss: 0.0029, Accuracy: 8832/10000 (88.32%)\n",
            "\n",
            "EPOCH: 13 LR: 0.010000000000000002 \n"
          ],
          "name": "stdout"
        },
        {
          "output_type": "stream",
          "text": [
            "Loss=0.18306012451648712 Batch_id=390 Accuracy=94.96: 100%|██████████| 391/391 [00:56<00:00,  6.97it/s]\n",
            "  0%|          | 0/391 [00:00<?, ?it/s]"
          ],
          "name": "stderr"
        },
        {
          "output_type": "stream",
          "text": [
            "\n",
            "Test set: Average loss: 0.0028, Accuracy: 8821/10000 (88.21%)\n",
            "\n",
            "EPOCH: 14 LR: 0.010000000000000002 \n"
          ],
          "name": "stdout"
        },
        {
          "output_type": "stream",
          "text": [
            "Loss=0.22576959431171417 Batch_id=390 Accuracy=96.01: 100%|██████████| 391/391 [00:56<00:00,  6.94it/s]\n",
            "  0%|          | 0/391 [00:00<?, ?it/s]"
          ],
          "name": "stderr"
        },
        {
          "output_type": "stream",
          "text": [
            "\n",
            "Test set: Average loss: 0.0030, Accuracy: 8798/10000 (87.98%)\n",
            "\n",
            "EPOCH: 15 LR: 0.0010000000000000002 \n"
          ],
          "name": "stdout"
        },
        {
          "output_type": "stream",
          "text": [
            "Loss=0.07323645055294037 Batch_id=390 Accuracy=97.42: 100%|██████████| 391/391 [00:56<00:00,  6.97it/s]\n",
            "  0%|          | 0/391 [00:00<?, ?it/s]"
          ],
          "name": "stderr"
        },
        {
          "output_type": "stream",
          "text": [
            "\n",
            "Test set: Average loss: 0.0028, Accuracy: 8850/10000 (88.50%)\n",
            "\n",
            "EPOCH: 16 LR: 0.0010000000000000002 \n"
          ],
          "name": "stdout"
        },
        {
          "output_type": "stream",
          "text": [
            "Loss=0.03277912735939026 Batch_id=390 Accuracy=97.69: 100%|██████████| 391/391 [00:56<00:00,  6.94it/s]\n",
            "  0%|          | 0/391 [00:00<?, ?it/s]"
          ],
          "name": "stderr"
        },
        {
          "output_type": "stream",
          "text": [
            "\n",
            "Test set: Average loss: 0.0028, Accuracy: 8854/10000 (88.54%)\n",
            "\n",
            "EPOCH: 17 LR: 0.0010000000000000002 \n"
          ],
          "name": "stdout"
        },
        {
          "output_type": "stream",
          "text": [
            "Loss=0.047163210809230804 Batch_id=390 Accuracy=97.82: 100%|██████████| 391/391 [00:56<00:00,  6.97it/s]\n",
            "  0%|          | 0/391 [00:00<?, ?it/s]"
          ],
          "name": "stderr"
        },
        {
          "output_type": "stream",
          "text": [
            "\n",
            "Test set: Average loss: 0.0028, Accuracy: 8854/10000 (88.54%)\n",
            "\n",
            "EPOCH: 18 LR: 0.0010000000000000002 \n"
          ],
          "name": "stdout"
        },
        {
          "output_type": "stream",
          "text": [
            "Loss=0.1328820139169693 Batch_id=390 Accuracy=98.11: 100%|██████████| 391/391 [00:56<00:00,  6.93it/s]\n",
            "  0%|          | 0/391 [00:00<?, ?it/s]"
          ],
          "name": "stderr"
        },
        {
          "output_type": "stream",
          "text": [
            "\n",
            "Test set: Average loss: 0.0028, Accuracy: 8872/10000 (88.72%)\n",
            "\n",
            "EPOCH: 19 LR: 0.0010000000000000002 \n"
          ],
          "name": "stdout"
        },
        {
          "output_type": "stream",
          "text": [
            "Loss=0.04426398128271103 Batch_id=390 Accuracy=98.22: 100%|██████████| 391/391 [00:56<00:00,  6.96it/s]\n",
            "  0%|          | 0/391 [00:00<?, ?it/s]"
          ],
          "name": "stderr"
        },
        {
          "output_type": "stream",
          "text": [
            "\n",
            "Test set: Average loss: 0.0029, Accuracy: 8862/10000 (88.62%)\n",
            "\n",
            "EPOCH: 20 LR: 0.00010000000000000003 \n"
          ],
          "name": "stdout"
        },
        {
          "output_type": "stream",
          "text": [
            "Loss=0.05959245562553406 Batch_id=390 Accuracy=98.33: 100%|██████████| 391/391 [00:56<00:00,  6.96it/s]\n",
            "  0%|          | 0/391 [00:00<?, ?it/s]"
          ],
          "name": "stderr"
        },
        {
          "output_type": "stream",
          "text": [
            "\n",
            "Test set: Average loss: 0.0029, Accuracy: 8856/10000 (88.56%)\n",
            "\n",
            "EPOCH: 21 LR: 0.00010000000000000003 \n"
          ],
          "name": "stdout"
        },
        {
          "output_type": "stream",
          "text": [
            "Loss=0.08444792777299881 Batch_id=390 Accuracy=98.35: 100%|██████████| 391/391 [00:56<00:00,  6.96it/s]\n",
            "  0%|          | 0/391 [00:00<?, ?it/s]"
          ],
          "name": "stderr"
        },
        {
          "output_type": "stream",
          "text": [
            "\n",
            "Test set: Average loss: 0.0029, Accuracy: 8859/10000 (88.59%)\n",
            "\n",
            "EPOCH: 22 LR: 0.00010000000000000003 \n"
          ],
          "name": "stdout"
        },
        {
          "output_type": "stream",
          "text": [
            "Loss=0.06477872282266617 Batch_id=390 Accuracy=98.31: 100%|██████████| 391/391 [00:56<00:00,  6.94it/s]\n",
            "  0%|          | 0/391 [00:00<?, ?it/s]"
          ],
          "name": "stderr"
        },
        {
          "output_type": "stream",
          "text": [
            "\n",
            "Test set: Average loss: 0.0029, Accuracy: 8853/10000 (88.53%)\n",
            "\n",
            "EPOCH: 23 LR: 0.00010000000000000003 \n"
          ],
          "name": "stdout"
        },
        {
          "output_type": "stream",
          "text": [
            "Loss=0.15906989574432373 Batch_id=390 Accuracy=98.45: 100%|██████████| 391/391 [00:56<00:00,  6.95it/s]\n",
            "  0%|          | 0/391 [00:00<?, ?it/s]"
          ],
          "name": "stderr"
        },
        {
          "output_type": "stream",
          "text": [
            "\n",
            "Test set: Average loss: 0.0029, Accuracy: 8854/10000 (88.54%)\n",
            "\n",
            "EPOCH: 24 LR: 0.00010000000000000003 \n"
          ],
          "name": "stdout"
        },
        {
          "output_type": "stream",
          "text": [
            "Loss=0.04464297741651535 Batch_id=390 Accuracy=98.43: 100%|██████████| 391/391 [00:56<00:00,  6.93it/s]\n",
            "  0%|          | 0/391 [00:00<?, ?it/s]"
          ],
          "name": "stderr"
        },
        {
          "output_type": "stream",
          "text": [
            "\n",
            "Test set: Average loss: 0.0029, Accuracy: 8865/10000 (88.65%)\n",
            "\n",
            "EPOCH: 25 LR: 0.00010000000000000003 \n"
          ],
          "name": "stdout"
        },
        {
          "output_type": "stream",
          "text": [
            "Loss=0.06578785181045532 Batch_id=390 Accuracy=98.39: 100%|██████████| 391/391 [00:56<00:00,  6.94it/s]\n",
            "  0%|          | 0/391 [00:00<?, ?it/s]"
          ],
          "name": "stderr"
        },
        {
          "output_type": "stream",
          "text": [
            "\n",
            "Test set: Average loss: 0.0029, Accuracy: 8868/10000 (88.68%)\n",
            "\n",
            "EPOCH: 26 LR: 0.00010000000000000003 \n"
          ],
          "name": "stdout"
        },
        {
          "output_type": "stream",
          "text": [
            "Loss=0.06735028326511383 Batch_id=390 Accuracy=98.47: 100%|██████████| 391/391 [00:56<00:00,  6.94it/s]\n",
            "  0%|          | 0/391 [00:00<?, ?it/s]"
          ],
          "name": "stderr"
        },
        {
          "output_type": "stream",
          "text": [
            "\n",
            "Test set: Average loss: 0.0029, Accuracy: 8872/10000 (88.72%)\n",
            "\n",
            "EPOCH: 27 LR: 0.00010000000000000003 \n"
          ],
          "name": "stdout"
        },
        {
          "output_type": "stream",
          "text": [
            "Loss=0.035151802003383636 Batch_id=390 Accuracy=98.49: 100%|██████████| 391/391 [00:56<00:00,  6.94it/s]\n",
            "  0%|          | 0/391 [00:00<?, ?it/s]"
          ],
          "name": "stderr"
        },
        {
          "output_type": "stream",
          "text": [
            "\n",
            "Test set: Average loss: 0.0029, Accuracy: 8863/10000 (88.63%)\n",
            "\n",
            "EPOCH: 28 LR: 1.0000000000000004e-05 \n"
          ],
          "name": "stdout"
        },
        {
          "output_type": "stream",
          "text": [
            "Loss=0.22040989995002747 Batch_id=390 Accuracy=98.50: 100%|██████████| 391/391 [00:56<00:00,  6.97it/s]\n",
            "  0%|          | 0/391 [00:00<?, ?it/s]"
          ],
          "name": "stderr"
        },
        {
          "output_type": "stream",
          "text": [
            "\n",
            "Test set: Average loss: 0.0029, Accuracy: 8853/10000 (88.53%)\n",
            "\n",
            "EPOCH: 29 LR: 1.0000000000000004e-05 \n"
          ],
          "name": "stdout"
        },
        {
          "output_type": "stream",
          "text": [
            "Loss=0.05536068230867386 Batch_id=390 Accuracy=98.42: 100%|██████████| 391/391 [00:56<00:00,  6.96it/s]\n"
          ],
          "name": "stderr"
        },
        {
          "output_type": "stream",
          "text": [
            "\n",
            "Test set: Average loss: 0.0029, Accuracy: 8864/10000 (88.64%)\n",
            "\n"
          ],
          "name": "stdout"
        },
        {
          "output_type": "display_data",
          "data": {
            "image/png": "[encoded data removed]",
            "text/plain": [
              "<Figure size 1440x576 with 2 Axes>"
            ]
          },
          "metadata": {
            "tags": []
          }
        }
      ]
    },
    {
      "cell_type": "code",
      "metadata": {
        "id": "B3hT5s6Yen4f",
        "colab_type": "code",
        "colab": {
          "base_uri": "https://localhost:8080/",
          "height": 1000
        },
        "outputId": "df526f8f-3210-4ad4-e543-74f8a09ce082"
      },
      "source": [
        "checkpoint = torch.load('/content/gdrive/My Drive/Colab Notebooks/CNN_Utility/Assign-9.pth')\n",
        "model.load_state_dict(checkpoint['model_state_dict'])\n",
        "model_params(model, input_size,device)"
      ],
      "execution_count": 11,
      "outputs": [
        {
          "output_type": "stream",
          "text": [
            "----------------------------------------------------------------\n",
            "        Layer (type)               Output Shape         Param #\n",
            "================================================================\n",
            "            Conv2d-1           [-1, 64, 32, 32]           1,728\n",
            "       BatchNorm2d-2           [-1, 64, 32, 32]             128\n",
            "            Conv2d-3           [-1, 64, 32, 32]          36,864\n",
            "       BatchNorm2d-4           [-1, 64, 32, 32]             128\n",
            "            Conv2d-5           [-1, 64, 32, 32]          36,864\n",
            "       BatchNorm2d-6           [-1, 64, 32, 32]             128\n",
            "        BasicBlock-7           [-1, 64, 32, 32]               0\n",
            "            Conv2d-8           [-1, 64, 32, 32]          36,864\n",
            "       BatchNorm2d-9           [-1, 64, 32, 32]             128\n",
            "           Conv2d-10           [-1, 64, 32, 32]          36,864\n",
            "      BatchNorm2d-11           [-1, 64, 32, 32]             128\n",
            "       BasicBlock-12           [-1, 64, 32, 32]               0\n",
            "           Conv2d-13          [-1, 128, 16, 16]          73,728\n",
            "      BatchNorm2d-14          [-1, 128, 16, 16]             256\n",
            "           Conv2d-15          [-1, 128, 16, 16]         147,456\n",
            "      BatchNorm2d-16          [-1, 128, 16, 16]             256\n",
            "           Conv2d-17          [-1, 128, 16, 16]           8,192\n",
            "      BatchNorm2d-18          [-1, 128, 16, 16]             256\n",
            "       BasicBlock-19          [-1, 128, 16, 16]               0\n",
            "           Conv2d-20          [-1, 128, 16, 16]         147,456\n",
            "      BatchNorm2d-21          [-1, 128, 16, 16]             256\n",
            "           Conv2d-22          [-1, 128, 16, 16]         147,456\n",
            "      BatchNorm2d-23          [-1, 128, 16, 16]             256\n",
            "       BasicBlock-24          [-1, 128, 16, 16]               0\n",
            "           Conv2d-25            [-1, 256, 8, 8]         294,912\n",
            "      BatchNorm2d-26            [-1, 256, 8, 8]             512\n",
            "           Conv2d-27            [-1, 256, 8, 8]         589,824\n",
            "      BatchNorm2d-28            [-1, 256, 8, 8]             512\n",
            "           Conv2d-29            [-1, 256, 8, 8]          32,768\n",
            "      BatchNorm2d-30            [-1, 256, 8, 8]             512\n",
            "       BasicBlock-31            [-1, 256, 8, 8]               0\n",
            "           Conv2d-32            [-1, 256, 8, 8]         589,824\n",
            "      BatchNorm2d-33            [-1, 256, 8, 8]             512\n",
            "           Conv2d-34            [-1, 256, 8, 8]         589,824\n",
            "      BatchNorm2d-35            [-1, 256, 8, 8]             512\n",
            "       BasicBlock-36            [-1, 256, 8, 8]               0\n",
            "           Conv2d-37            [-1, 512, 4, 4]       1,179,648\n",
            "      BatchNorm2d-38            [-1, 512, 4, 4]           1,024\n",
            "           Conv2d-39            [-1, 512, 4, 4]       2,359,296\n",
            "      BatchNorm2d-40            [-1, 512, 4, 4]           1,024\n",
            "           Conv2d-41            [-1, 512, 4, 4]         131,072\n",
            "      BatchNorm2d-42            [-1, 512, 4, 4]           1,024\n",
            "       BasicBlock-43            [-1, 512, 4, 4]               0\n",
            "           Conv2d-44            [-1, 512, 4, 4]       2,359,296\n",
            "      BatchNorm2d-45            [-1, 512, 4, 4]           1,024\n",
            "           Conv2d-46            [-1, 512, 4, 4]       2,359,296\n",
            "      BatchNorm2d-47            [-1, 512, 4, 4]           1,024\n",
            "       BasicBlock-48            [-1, 512, 4, 4]               0\n",
            "           Linear-49                   [-1, 10]           5,130\n",
            "================================================================\n",
            "Total params: 11,173,962\n",
            "Trainable params: 11,173,962\n",
            "Non-trainable params: 0\n",
            "----------------------------------------------------------------\n",
            "Input size (MB): 0.01\n",
            "Forward/backward pass size (MB): 11.25\n",
            "Params size (MB): 42.63\n",
            "Estimated Total Size (MB): 53.89\n",
            "----------------------------------------------------------------\n"
          ],
          "name": "stdout"
        }
      ]
    },
    {
      "cell_type": "code",
      "metadata": {
        "id": "Bg1Hcc4PRU-4",
        "colab_type": "code",
        "colab": {
          "base_uri": "https://localhost:8080/",
          "height": 471
        },
        "outputId": "92b043d1-47f1-40fc-9b17-3278f931c233"
      },
      "source": [
        "demo1([\"/content/gdrive/My Drive/Colab Notebooks/CNN_Utility/img1.png\"],\"layer4.1.shortcut\",\"resnet18\" ,10,\"/content/gdrive/My Drive/Colab Notebooks/CNN_Utility\", True, model)\n",
        "#demo1([\"/content/gdrive/My Drive/Colab Notebooks/CNN_Utility/img1.png\"],\"layer4.2\",\"resnet152\" ,3,\"/content/gdrive/My Drive/Colab Notebooks/CNN_Utility\", True, None)"
      ],
      "execution_count": 52,
      "outputs": [
        {
          "output_type": "stream",
          "text": [
            "Device: Tesla P4\n",
            "['/content/gdrive/My Drive/Colab Notebooks/CNN_Utility/img1.png']\n",
            "Images: ['/content/gdrive/My Drive/Colab Notebooks/CNN_Utility/img1.png']\n",
            "\t#0: /content/gdrive/My Drive/Colab Notebooks/CNN_Utility/img1.png\n",
            "Grad-CAM/Guided Backpropagation/Guided Grad-CAM:\n",
            "dict_keys(['conv1', 'bn1', 'layer1.0.conv1', 'layer1.0.bn1', 'layer1.0.conv2', 'layer1.0.bn2', 'layer1.0.shortcut', 'layer1.0', 'layer1.1.conv1', 'layer1.1.bn1', 'layer1.1.conv2', 'layer1.1.bn2', 'layer1.1.shortcut', 'layer1.1', 'layer1', 'layer2.0.conv1', 'layer2.0.bn1', 'layer2.0.conv2', 'layer2.0.bn2', 'layer2.0.shortcut.0', 'layer2.0.shortcut.1', 'layer2.0.shortcut', 'layer2.0', 'layer2.1.conv1', 'layer2.1.bn1', 'layer2.1.conv2', 'layer2.1.bn2', 'layer2.1.shortcut', 'layer2.1', 'layer2', 'layer3.0.conv1', 'layer3.0.bn1', 'layer3.0.conv2', 'layer3.0.bn2', 'layer3.0.shortcut.0', 'layer3.0.shortcut.1', 'layer3.0.shortcut', 'layer3.0', 'layer3.1.conv1', 'layer3.1.bn1', 'layer3.1.conv2', 'layer3.1.bn2', 'layer3.1.shortcut', 'layer3.1', 'layer3', 'layer4.0.conv1', 'layer4.0.bn1', 'layer4.0.conv2', 'layer4.0.bn2', 'layer4.0.shortcut.0', 'layer4.0.shortcut.1', 'layer4.0.shortcut', 'layer4.0', 'layer4.1.conv1', 'layer4.1.bn1', 'layer4.1.conv2', 'layer4.1.bn2', 'layer4.1.shortcut', 'layer4.1', 'layer4', 'linear', ''])\n",
            "dict_keys(['linear', '', 'layer4.1', 'layer4', 'layer4.1.bn2', 'layer4.1.conv2', 'layer4.1.bn1', 'layer4.1.conv1', 'layer4.0', 'layer4.1.shortcut', 'layer4.0.shortcut.1', 'layer4.0.shortcut', 'layer4.0.shortcut.0', 'layer4.0.bn2', 'layer4.0.conv2', 'layer4.0.bn1', 'layer4.0.conv1', 'layer3.1', 'layer3', 'layer3.1.bn2', 'layer3.1.conv2', 'layer3.1.bn1', 'layer3.1.conv1', 'layer3.0', 'layer3.1.shortcut', 'layer3.0.shortcut.1', 'layer3.0.shortcut', 'layer3.0.shortcut.0', 'layer3.0.bn2', 'layer3.0.conv2', 'layer3.0.bn1', 'layer3.0.conv1', 'layer2.1', 'layer2', 'layer2.1.bn2', 'layer2.1.conv2', 'layer2.1.bn1', 'layer2.1.conv1', 'layer2.0', 'layer2.1.shortcut', 'layer2.0.shortcut.1', 'layer2.0.shortcut', 'layer2.0.shortcut.0', 'layer2.0.bn2', 'layer2.0.conv2', 'layer2.0.bn1', 'layer2.0.conv1', 'layer1.1', 'layer1', 'layer1.1.bn2', 'layer1.1.conv2', 'layer1.1.bn1', 'layer1.1.conv1', 'layer1.0', 'layer1.1.shortcut', 'layer1.0.bn2', 'layer1.0.conv2', 'layer1.0.bn1', 'layer1.0.conv1', 'layer1.0.shortcut', 'bn1', 'conv1'])\n",
            "dict_keys(['conv1', 'bn1', 'layer1.0.conv1', 'layer1.0.bn1', 'layer1.0.conv2', 'layer1.0.bn2', 'layer1.0.shortcut', 'layer1.0', 'layer1.1.conv1', 'layer1.1.bn1', 'layer1.1.conv2', 'layer1.1.bn2', 'layer1.1.shortcut', 'layer1.1', 'layer1', 'layer2.0.conv1', 'layer2.0.bn1', 'layer2.0.conv2', 'layer2.0.bn2', 'layer2.0.shortcut.0', 'layer2.0.shortcut.1', 'layer2.0.shortcut', 'layer2.0', 'layer2.1.conv1', 'layer2.1.bn1', 'layer2.1.conv2', 'layer2.1.bn2', 'layer2.1.shortcut', 'layer2.1', 'layer2', 'layer3.0.conv1', 'layer3.0.bn1', 'layer3.0.conv2', 'layer3.0.bn2', 'layer3.0.shortcut.0', 'layer3.0.shortcut.1', 'layer3.0.shortcut', 'layer3.0', 'layer3.1.conv1', 'layer3.1.bn1', 'layer3.1.conv2', 'layer3.1.bn2', 'layer3.1.shortcut', 'layer3.1', 'layer3', 'layer4.0.conv1', 'layer4.0.bn1', 'layer4.0.conv2', 'layer4.0.bn2', 'layer4.0.shortcut.0', 'layer4.0.shortcut.1', 'layer4.0.shortcut', 'layer4.0', 'layer4.1.conv1', 'layer4.1.bn1', 'layer4.1.conv2', 'layer4.1.bn2', 'layer4.1.shortcut', 'layer4.1', 'layer4', 'linear', ''])\n",
            "dict_keys(['linear', '', 'layer4.1', 'layer4', 'layer4.1.bn2', 'layer4.1.conv2', 'layer4.1.bn1', 'layer4.1.conv1', 'layer4.0', 'layer4.1.shortcut', 'layer4.0.shortcut.1', 'layer4.0.shortcut', 'layer4.0.shortcut.0', 'layer4.0.bn2', 'layer4.0.conv2', 'layer4.0.bn1', 'layer4.0.conv1', 'layer3.1', 'layer3', 'layer3.1.bn2', 'layer3.1.conv2', 'layer3.1.bn1', 'layer3.1.conv1', 'layer3.0', 'layer3.1.shortcut', 'layer3.0.shortcut.1', 'layer3.0.shortcut', 'layer3.0.shortcut.0', 'layer3.0.bn2', 'layer3.0.conv2', 'layer3.0.bn1', 'layer3.0.conv1', 'layer2.1', 'layer2', 'layer2.1.bn2', 'layer2.1.conv2', 'layer2.1.bn1', 'layer2.1.conv1', 'layer2.0', 'layer2.1.shortcut', 'layer2.0.shortcut.1', 'layer2.0.shortcut', 'layer2.0.shortcut.0', 'layer2.0.bn2', 'layer2.0.conv2', 'layer2.0.bn1', 'layer2.0.conv1', 'layer1.1', 'layer1', 'layer1.1.bn2', 'layer1.1.conv2', 'layer1.1.bn1', 'layer1.1.conv1', 'layer1.0', 'layer1.1.shortcut', 'layer1.0.bn2', 'layer1.0.conv2', 'layer1.0.bn1', 'layer1.0.conv1', 'layer1.0.shortcut', 'bn1', 'conv1'])\n",
            "dict_keys(['conv1', 'bn1', 'layer1.0.conv1', 'layer1.0.bn1', 'layer1.0.conv2', 'layer1.0.bn2', 'layer1.0.shortcut', 'layer1.0', 'layer1.1.conv1', 'layer1.1.bn1', 'layer1.1.conv2', 'layer1.1.bn2', 'layer1.1.shortcut', 'layer1.1', 'layer1', 'layer2.0.conv1', 'layer2.0.bn1', 'layer2.0.conv2', 'layer2.0.bn2', 'layer2.0.shortcut.0', 'layer2.0.shortcut.1', 'layer2.0.shortcut', 'layer2.0', 'layer2.1.conv1', 'layer2.1.bn1', 'layer2.1.conv2', 'layer2.1.bn2', 'layer2.1.shortcut', 'layer2.1', 'layer2', 'layer3.0.conv1', 'layer3.0.bn1', 'layer3.0.conv2', 'layer3.0.bn2', 'layer3.0.shortcut.0', 'layer3.0.shortcut.1', 'layer3.0.shortcut', 'layer3.0', 'layer3.1.conv1', 'layer3.1.bn1', 'layer3.1.conv2', 'layer3.1.bn2', 'layer3.1.shortcut', 'layer3.1', 'layer3', 'layer4.0.conv1', 'layer4.0.bn1', 'layer4.0.conv2', 'layer4.0.bn2', 'layer4.0.shortcut.0', 'layer4.0.shortcut.1', 'layer4.0.shortcut', 'layer4.0', 'layer4.1.conv1', 'layer4.1.bn1', 'layer4.1.conv2', 'layer4.1.bn2', 'layer4.1.shortcut', 'layer4.1', 'layer4', 'linear', ''])\n",
            "dict_keys(['linear', '', 'layer4.1', 'layer4', 'layer4.1.bn2', 'layer4.1.conv2', 'layer4.1.bn1', 'layer4.1.conv1', 'layer4.0', 'layer4.1.shortcut', 'layer4.0.shortcut.1', 'layer4.0.shortcut', 'layer4.0.shortcut.0', 'layer4.0.bn2', 'layer4.0.conv2', 'layer4.0.bn1', 'layer4.0.conv1', 'layer3.1', 'layer3', 'layer3.1.bn2', 'layer3.1.conv2', 'layer3.1.bn1', 'layer3.1.conv1', 'layer3.0', 'layer3.1.shortcut', 'layer3.0.shortcut.1', 'layer3.0.shortcut', 'layer3.0.shortcut.0', 'layer3.0.bn2', 'layer3.0.conv2', 'layer3.0.bn1', 'layer3.0.conv1', 'layer2.1', 'layer2', 'layer2.1.bn2', 'layer2.1.conv2', 'layer2.1.bn1', 'layer2.1.conv1', 'layer2.0', 'layer2.1.shortcut', 'layer2.0.shortcut.1', 'layer2.0.shortcut', 'layer2.0.shortcut.0', 'layer2.0.bn2', 'layer2.0.conv2', 'layer2.0.bn1', 'layer2.0.conv1', 'layer1.1', 'layer1', 'layer1.1.bn2', 'layer1.1.conv2', 'layer1.1.bn1', 'layer1.1.conv1', 'layer1.0', 'layer1.1.shortcut', 'layer1.0.bn2', 'layer1.0.conv2', 'layer1.0.bn1', 'layer1.0.conv1', 'layer1.0.shortcut', 'bn1', 'conv1'])\n",
            "dict_keys(['conv1', 'bn1', 'layer1.0.conv1', 'layer1.0.bn1', 'layer1.0.conv2', 'layer1.0.bn2', 'layer1.0.shortcut', 'layer1.0', 'layer1.1.conv1', 'layer1.1.bn1', 'layer1.1.conv2', 'layer1.1.bn2', 'layer1.1.shortcut', 'layer1.1', 'layer1', 'layer2.0.conv1', 'layer2.0.bn1', 'layer2.0.conv2', 'layer2.0.bn2', 'layer2.0.shortcut.0', 'layer2.0.shortcut.1', 'layer2.0.shortcut', 'layer2.0', 'layer2.1.conv1', 'layer2.1.bn1', 'layer2.1.conv2', 'layer2.1.bn2', 'layer2.1.shortcut', 'layer2.1', 'layer2', 'layer3.0.conv1', 'layer3.0.bn1', 'layer3.0.conv2', 'layer3.0.bn2', 'layer3.0.shortcut.0', 'layer3.0.shortcut.1', 'layer3.0.shortcut', 'layer3.0', 'layer3.1.conv1', 'layer3.1.bn1', 'layer3.1.conv2', 'layer3.1.bn2', 'layer3.1.shortcut', 'layer3.1', 'layer3', 'layer4.0.conv1', 'layer4.0.bn1', 'layer4.0.conv2', 'layer4.0.bn2', 'layer4.0.shortcut.0', 'layer4.0.shortcut.1', 'layer4.0.shortcut', 'layer4.0', 'layer4.1.conv1', 'layer4.1.bn1', 'layer4.1.conv2', 'layer4.1.bn2', 'layer4.1.shortcut', 'layer4.1', 'layer4', 'linear', ''])\n",
            "dict_keys(['linear', '', 'layer4.1', 'layer4', 'layer4.1.bn2', 'layer4.1.conv2', 'layer4.1.bn1', 'layer4.1.conv1', 'layer4.0', 'layer4.1.shortcut', 'layer4.0.shortcut.1', 'layer4.0.shortcut', 'layer4.0.shortcut.0', 'layer4.0.bn2', 'layer4.0.conv2', 'layer4.0.bn1', 'layer4.0.conv1', 'layer3.1', 'layer3', 'layer3.1.bn2', 'layer3.1.conv2', 'layer3.1.bn1', 'layer3.1.conv1', 'layer3.0', 'layer3.1.shortcut', 'layer3.0.shortcut.1', 'layer3.0.shortcut', 'layer3.0.shortcut.0', 'layer3.0.bn2', 'layer3.0.conv2', 'layer3.0.bn1', 'layer3.0.conv1', 'layer2.1', 'layer2', 'layer2.1.bn2', 'layer2.1.conv2', 'layer2.1.bn1', 'layer2.1.conv1', 'layer2.0', 'layer2.1.shortcut', 'layer2.0.shortcut.1', 'layer2.0.shortcut', 'layer2.0.shortcut.0', 'layer2.0.bn2', 'layer2.0.conv2', 'layer2.0.bn1', 'layer2.0.conv1', 'layer1.1', 'layer1', 'layer1.1.bn2', 'layer1.1.conv2', 'layer1.1.bn1', 'layer1.1.conv1', 'layer1.0', 'layer1.1.shortcut', 'layer1.0.bn2', 'layer1.0.conv2', 'layer1.0.bn1', 'layer1.0.conv1', 'layer1.0.shortcut', 'bn1', 'conv1'])\n",
            "dict_keys(['conv1', 'bn1', 'layer1.0.conv1', 'layer1.0.bn1', 'layer1.0.conv2', 'layer1.0.bn2', 'layer1.0.shortcut', 'layer1.0', 'layer1.1.conv1', 'layer1.1.bn1', 'layer1.1.conv2', 'layer1.1.bn2', 'layer1.1.shortcut', 'layer1.1', 'layer1', 'layer2.0.conv1', 'layer2.0.bn1', 'layer2.0.conv2', 'layer2.0.bn2', 'layer2.0.shortcut.0', 'layer2.0.shortcut.1', 'layer2.0.shortcut', 'layer2.0', 'layer2.1.conv1', 'layer2.1.bn1', 'layer2.1.conv2', 'layer2.1.bn2', 'layer2.1.shortcut', 'layer2.1', 'layer2', 'layer3.0.conv1', 'layer3.0.bn1', 'layer3.0.conv2', 'layer3.0.bn2', 'layer3.0.shortcut.0', 'layer3.0.shortcut.1', 'layer3.0.shortcut', 'layer3.0', 'layer3.1.conv1', 'layer3.1.bn1', 'layer3.1.conv2', 'layer3.1.bn2', 'layer3.1.shortcut', 'layer3.1', 'layer3', 'layer4.0.conv1', 'layer4.0.bn1', 'layer4.0.conv2', 'layer4.0.bn2', 'layer4.0.shortcut.0', 'layer4.0.shortcut.1', 'layer4.0.shortcut', 'layer4.0', 'layer4.1.conv1', 'layer4.1.bn1', 'layer4.1.conv2', 'layer4.1.bn2', 'layer4.1.shortcut', 'layer4.1', 'layer4', 'linear', ''])\n",
            "dict_keys(['linear', '', 'layer4.1', 'layer4', 'layer4.1.bn2', 'layer4.1.conv2', 'layer4.1.bn1', 'layer4.1.conv1', 'layer4.0', 'layer4.1.shortcut', 'layer4.0.shortcut.1', 'layer4.0.shortcut', 'layer4.0.shortcut.0', 'layer4.0.bn2', 'layer4.0.conv2', 'layer4.0.bn1', 'layer4.0.conv1', 'layer3.1', 'layer3', 'layer3.1.bn2', 'layer3.1.conv2', 'layer3.1.bn1', 'layer3.1.conv1', 'layer3.0', 'layer3.1.shortcut', 'layer3.0.shortcut.1', 'layer3.0.shortcut', 'layer3.0.shortcut.0', 'layer3.0.bn2', 'layer3.0.conv2', 'layer3.0.bn1', 'layer3.0.conv1', 'layer2.1', 'layer2', 'layer2.1.bn2', 'layer2.1.conv2', 'layer2.1.bn1', 'layer2.1.conv1', 'layer2.0', 'layer2.1.shortcut', 'layer2.0.shortcut.1', 'layer2.0.shortcut', 'layer2.0.shortcut.0', 'layer2.0.bn2', 'layer2.0.conv2', 'layer2.0.bn1', 'layer2.0.conv1', 'layer1.1', 'layer1', 'layer1.1.bn2', 'layer1.1.conv2', 'layer1.1.bn1', 'layer1.1.conv1', 'layer1.0', 'layer1.1.shortcut', 'layer1.0.bn2', 'layer1.0.conv2', 'layer1.0.bn1', 'layer1.0.conv1', 'layer1.0.shortcut', 'bn1', 'conv1'])\n",
            "dict_keys(['conv1', 'bn1', 'layer1.0.conv1', 'layer1.0.bn1', 'layer1.0.conv2', 'layer1.0.bn2', 'layer1.0.shortcut', 'layer1.0', 'layer1.1.conv1', 'layer1.1.bn1', 'layer1.1.conv2', 'layer1.1.bn2', 'layer1.1.shortcut', 'layer1.1', 'layer1', 'layer2.0.conv1', 'layer2.0.bn1', 'layer2.0.conv2', 'layer2.0.bn2', 'layer2.0.shortcut.0', 'layer2.0.shortcut.1', 'layer2.0.shortcut', 'layer2.0', 'layer2.1.conv1', 'layer2.1.bn1', 'layer2.1.conv2', 'layer2.1.bn2', 'layer2.1.shortcut', 'layer2.1', 'layer2', 'layer3.0.conv1', 'layer3.0.bn1', 'layer3.0.conv2', 'layer3.0.bn2', 'layer3.0.shortcut.0', 'layer3.0.shortcut.1', 'layer3.0.shortcut', 'layer3.0', 'layer3.1.conv1', 'layer3.1.bn1', 'layer3.1.conv2', 'layer3.1.bn2', 'layer3.1.shortcut', 'layer3.1', 'layer3', 'layer4.0.conv1', 'layer4.0.bn1', 'layer4.0.conv2', 'layer4.0.bn2', 'layer4.0.shortcut.0', 'layer4.0.shortcut.1', 'layer4.0.shortcut', 'layer4.0', 'layer4.1.conv1', 'layer4.1.bn1', 'layer4.1.conv2', 'layer4.1.bn2', 'layer4.1.shortcut', 'layer4.1', 'layer4', 'linear', ''])\n",
            "dict_keys(['linear', '', 'layer4.1', 'layer4', 'layer4.1.bn2', 'layer4.1.conv2', 'layer4.1.bn1', 'layer4.1.conv1', 'layer4.0', 'layer4.1.shortcut', 'layer4.0.shortcut.1', 'layer4.0.shortcut', 'layer4.0.shortcut.0', 'layer4.0.bn2', 'layer4.0.conv2', 'layer4.0.bn1', 'layer4.0.conv1', 'layer3.1', 'layer3', 'layer3.1.bn2', 'layer3.1.conv2', 'layer3.1.bn1', 'layer3.1.conv1', 'layer3.0', 'layer3.1.shortcut', 'layer3.0.shortcut.1', 'layer3.0.shortcut', 'layer3.0.shortcut.0', 'layer3.0.bn2', 'layer3.0.conv2', 'layer3.0.bn1', 'layer3.0.conv1', 'layer2.1', 'layer2', 'layer2.1.bn2', 'layer2.1.conv2', 'layer2.1.bn1', 'layer2.1.conv1', 'layer2.0', 'layer2.1.shortcut', 'layer2.0.shortcut.1', 'layer2.0.shortcut', 'layer2.0.shortcut.0', 'layer2.0.bn2', 'layer2.0.conv2', 'layer2.0.bn1', 'layer2.0.conv1', 'layer1.1', 'layer1', 'layer1.1.bn2', 'layer1.1.conv2', 'layer1.1.bn1', 'layer1.1.conv1', 'layer1.0', 'layer1.1.shortcut', 'layer1.0.bn2', 'layer1.0.conv2', 'layer1.0.bn1', 'layer1.0.conv1', 'layer1.0.shortcut', 'bn1', 'conv1'])\n",
            "dict_keys(['conv1', 'bn1', 'layer1.0.conv1', 'layer1.0.bn1', 'layer1.0.conv2', 'layer1.0.bn2', 'layer1.0.shortcut', 'layer1.0', 'layer1.1.conv1', 'layer1.1.bn1', 'layer1.1.conv2', 'layer1.1.bn2', 'layer1.1.shortcut', 'layer1.1', 'layer1', 'layer2.0.conv1', 'layer2.0.bn1', 'layer2.0.conv2', 'layer2.0.bn2', 'layer2.0.shortcut.0', 'layer2.0.shortcut.1', 'layer2.0.shortcut', 'layer2.0', 'layer2.1.conv1', 'layer2.1.bn1', 'layer2.1.conv2', 'layer2.1.bn2', 'layer2.1.shortcut', 'layer2.1', 'layer2', 'layer3.0.conv1', 'layer3.0.bn1', 'layer3.0.conv2', 'layer3.0.bn2', 'layer3.0.shortcut.0', 'layer3.0.shortcut.1', 'layer3.0.shortcut', 'layer3.0', 'layer3.1.conv1', 'layer3.1.bn1', 'layer3.1.conv2', 'layer3.1.bn2', 'layer3.1.shortcut', 'layer3.1', 'layer3', 'layer4.0.conv1', 'layer4.0.bn1', 'layer4.0.conv2', 'layer4.0.bn2', 'layer4.0.shortcut.0', 'layer4.0.shortcut.1', 'layer4.0.shortcut', 'layer4.0', 'layer4.1.conv1', 'layer4.1.bn1', 'layer4.1.conv2', 'layer4.1.bn2', 'layer4.1.shortcut', 'layer4.1', 'layer4', 'linear', ''])\n",
            "dict_keys(['linear', '', 'layer4.1', 'layer4', 'layer4.1.bn2', 'layer4.1.conv2', 'layer4.1.bn1', 'layer4.1.conv1', 'layer4.0', 'layer4.1.shortcut', 'layer4.0.shortcut.1', 'layer4.0.shortcut', 'layer4.0.shortcut.0', 'layer4.0.bn2', 'layer4.0.conv2', 'layer4.0.bn1', 'layer4.0.conv1', 'layer3.1', 'layer3', 'layer3.1.bn2', 'layer3.1.conv2', 'layer3.1.bn1', 'layer3.1.conv1', 'layer3.0', 'layer3.1.shortcut', 'layer3.0.shortcut.1', 'layer3.0.shortcut', 'layer3.0.shortcut.0', 'layer3.0.bn2', 'layer3.0.conv2', 'layer3.0.bn1', 'layer3.0.conv1', 'layer2.1', 'layer2', 'layer2.1.bn2', 'layer2.1.conv2', 'layer2.1.bn1', 'layer2.1.conv1', 'layer2.0', 'layer2.1.shortcut', 'layer2.0.shortcut.1', 'layer2.0.shortcut', 'layer2.0.shortcut.0', 'layer2.0.bn2', 'layer2.0.conv2', 'layer2.0.bn1', 'layer2.0.conv1', 'layer1.1', 'layer1', 'layer1.1.bn2', 'layer1.1.conv2', 'layer1.1.bn1', 'layer1.1.conv1', 'layer1.0', 'layer1.1.shortcut', 'layer1.0.bn2', 'layer1.0.conv2', 'layer1.0.bn1', 'layer1.0.conv1', 'layer1.0.shortcut', 'bn1', 'conv1'])\n",
            "dict_keys(['conv1', 'bn1', 'layer1.0.conv1', 'layer1.0.bn1', 'layer1.0.conv2', 'layer1.0.bn2', 'layer1.0.shortcut', 'layer1.0', 'layer1.1.conv1', 'layer1.1.bn1', 'layer1.1.conv2', 'layer1.1.bn2', 'layer1.1.shortcut', 'layer1.1', 'layer1', 'layer2.0.conv1', 'layer2.0.bn1', 'layer2.0.conv2', 'layer2.0.bn2', 'layer2.0.shortcut.0', 'layer2.0.shortcut.1', 'layer2.0.shortcut', 'layer2.0', 'layer2.1.conv1', 'layer2.1.bn1', 'layer2.1.conv2', 'layer2.1.bn2', 'layer2.1.shortcut', 'layer2.1', 'layer2', 'layer3.0.conv1', 'layer3.0.bn1', 'layer3.0.conv2', 'layer3.0.bn2', 'layer3.0.shortcut.0', 'layer3.0.shortcut.1', 'layer3.0.shortcut', 'layer3.0', 'layer3.1.conv1', 'layer3.1.bn1', 'layer3.1.conv2', 'layer3.1.bn2', 'layer3.1.shortcut', 'layer3.1', 'layer3', 'layer4.0.conv1', 'layer4.0.bn1', 'layer4.0.conv2', 'layer4.0.bn2', 'layer4.0.shortcut.0', 'layer4.0.shortcut.1', 'layer4.0.shortcut', 'layer4.0', 'layer4.1.conv1', 'layer4.1.bn1', 'layer4.1.conv2', 'layer4.1.bn2', 'layer4.1.shortcut', 'layer4.1', 'layer4', 'linear', ''])\n",
            "dict_keys(['linear', '', 'layer4.1', 'layer4', 'layer4.1.bn2', 'layer4.1.conv2', 'layer4.1.bn1', 'layer4.1.conv1', 'layer4.0', 'layer4.1.shortcut', 'layer4.0.shortcut.1', 'layer4.0.shortcut', 'layer4.0.shortcut.0', 'layer4.0.bn2', 'layer4.0.conv2', 'layer4.0.bn1', 'layer4.0.conv1', 'layer3.1', 'layer3', 'layer3.1.bn2', 'layer3.1.conv2', 'layer3.1.bn1', 'layer3.1.conv1', 'layer3.0', 'layer3.1.shortcut', 'layer3.0.shortcut.1', 'layer3.0.shortcut', 'layer3.0.shortcut.0', 'layer3.0.bn2', 'layer3.0.conv2', 'layer3.0.bn1', 'layer3.0.conv1', 'layer2.1', 'layer2', 'layer2.1.bn2', 'layer2.1.conv2', 'layer2.1.bn1', 'layer2.1.conv1', 'layer2.0', 'layer2.1.shortcut', 'layer2.0.shortcut.1', 'layer2.0.shortcut', 'layer2.0.shortcut.0', 'layer2.0.bn2', 'layer2.0.conv2', 'layer2.0.bn1', 'layer2.0.conv1', 'layer1.1', 'layer1', 'layer1.1.bn2', 'layer1.1.conv2', 'layer1.1.bn1', 'layer1.1.conv1', 'layer1.0', 'layer1.1.shortcut', 'layer1.0.bn2', 'layer1.0.conv2', 'layer1.0.bn1', 'layer1.0.conv1', 'layer1.0.shortcut', 'bn1', 'conv1'])\n",
            "dict_keys(['conv1', 'bn1', 'layer1.0.conv1', 'layer1.0.bn1', 'layer1.0.conv2', 'layer1.0.bn2', 'layer1.0.shortcut', 'layer1.0', 'layer1.1.conv1', 'layer1.1.bn1', 'layer1.1.conv2', 'layer1.1.bn2', 'layer1.1.shortcut', 'layer1.1', 'layer1', 'layer2.0.conv1', 'layer2.0.bn1', 'layer2.0.conv2', 'layer2.0.bn2', 'layer2.0.shortcut.0', 'layer2.0.shortcut.1', 'layer2.0.shortcut', 'layer2.0', 'layer2.1.conv1', 'layer2.1.bn1', 'layer2.1.conv2', 'layer2.1.bn2', 'layer2.1.shortcut', 'layer2.1', 'layer2', 'layer3.0.conv1', 'layer3.0.bn1', 'layer3.0.conv2', 'layer3.0.bn2', 'layer3.0.shortcut.0', 'layer3.0.shortcut.1', 'layer3.0.shortcut', 'layer3.0', 'layer3.1.conv1', 'layer3.1.bn1', 'layer3.1.conv2', 'layer3.1.bn2', 'layer3.1.shortcut', 'layer3.1', 'layer3', 'layer4.0.conv1', 'layer4.0.bn1', 'layer4.0.conv2', 'layer4.0.bn2', 'layer4.0.shortcut.0', 'layer4.0.shortcut.1', 'layer4.0.shortcut', 'layer4.0', 'layer4.1.conv1', 'layer4.1.bn1', 'layer4.1.conv2', 'layer4.1.bn2', 'layer4.1.shortcut', 'layer4.1', 'layer4', 'linear', ''])\n",
            "dict_keys(['linear', '', 'layer4.1', 'layer4', 'layer4.1.bn2', 'layer4.1.conv2', 'layer4.1.bn1', 'layer4.1.conv1', 'layer4.0', 'layer4.1.shortcut', 'layer4.0.shortcut.1', 'layer4.0.shortcut', 'layer4.0.shortcut.0', 'layer4.0.bn2', 'layer4.0.conv2', 'layer4.0.bn1', 'layer4.0.conv1', 'layer3.1', 'layer3', 'layer3.1.bn2', 'layer3.1.conv2', 'layer3.1.bn1', 'layer3.1.conv1', 'layer3.0', 'layer3.1.shortcut', 'layer3.0.shortcut.1', 'layer3.0.shortcut', 'layer3.0.shortcut.0', 'layer3.0.bn2', 'layer3.0.conv2', 'layer3.0.bn1', 'layer3.0.conv1', 'layer2.1', 'layer2', 'layer2.1.bn2', 'layer2.1.conv2', 'layer2.1.bn1', 'layer2.1.conv1', 'layer2.0', 'layer2.1.shortcut', 'layer2.0.shortcut.1', 'layer2.0.shortcut', 'layer2.0.shortcut.0', 'layer2.0.bn2', 'layer2.0.conv2', 'layer2.0.bn1', 'layer2.0.conv1', 'layer1.1', 'layer1', 'layer1.1.bn2', 'layer1.1.conv2', 'layer1.1.bn1', 'layer1.1.conv1', 'layer1.0', 'layer1.1.shortcut', 'layer1.0.bn2', 'layer1.0.conv2', 'layer1.0.bn1', 'layer1.0.conv1', 'layer1.0.shortcut', 'bn1', 'conv1'])\n",
            "dict_keys(['conv1', 'bn1', 'layer1.0.conv1', 'layer1.0.bn1', 'layer1.0.conv2', 'layer1.0.bn2', 'layer1.0.shortcut', 'layer1.0', 'layer1.1.conv1', 'layer1.1.bn1', 'layer1.1.conv2', 'layer1.1.bn2', 'layer1.1.shortcut', 'layer1.1', 'layer1', 'layer2.0.conv1', 'layer2.0.bn1', 'layer2.0.conv2', 'layer2.0.bn2', 'layer2.0.shortcut.0', 'layer2.0.shortcut.1', 'layer2.0.shortcut', 'layer2.0', 'layer2.1.conv1', 'layer2.1.bn1', 'layer2.1.conv2', 'layer2.1.bn2', 'layer2.1.shortcut', 'layer2.1', 'layer2', 'layer3.0.conv1', 'layer3.0.bn1', 'layer3.0.conv2', 'layer3.0.bn2', 'layer3.0.shortcut.0', 'layer3.0.shortcut.1', 'layer3.0.shortcut', 'layer3.0', 'layer3.1.conv1', 'layer3.1.bn1', 'layer3.1.conv2', 'layer3.1.bn2', 'layer3.1.shortcut', 'layer3.1', 'layer3', 'layer4.0.conv1', 'layer4.0.bn1', 'layer4.0.conv2', 'layer4.0.bn2', 'layer4.0.shortcut.0', 'layer4.0.shortcut.1', 'layer4.0.shortcut', 'layer4.0', 'layer4.1.conv1', 'layer4.1.bn1', 'layer4.1.conv2', 'layer4.1.bn2', 'layer4.1.shortcut', 'layer4.1', 'layer4', 'linear', ''])\n",
            "dict_keys(['linear', '', 'layer4.1', 'layer4', 'layer4.1.bn2', 'layer4.1.conv2', 'layer4.1.bn1', 'layer4.1.conv1', 'layer4.0', 'layer4.1.shortcut', 'layer4.0.shortcut.1', 'layer4.0.shortcut', 'layer4.0.shortcut.0', 'layer4.0.bn2', 'layer4.0.conv2', 'layer4.0.bn1', 'layer4.0.conv1', 'layer3.1', 'layer3', 'layer3.1.bn2', 'layer3.1.conv2', 'layer3.1.bn1', 'layer3.1.conv1', 'layer3.0', 'layer3.1.shortcut', 'layer3.0.shortcut.1', 'layer3.0.shortcut', 'layer3.0.shortcut.0', 'layer3.0.bn2', 'layer3.0.conv2', 'layer3.0.bn1', 'layer3.0.conv1', 'layer2.1', 'layer2', 'layer2.1.bn2', 'layer2.1.conv2', 'layer2.1.bn1', 'layer2.1.conv1', 'layer2.0', 'layer2.1.shortcut', 'layer2.0.shortcut.1', 'layer2.0.shortcut', 'layer2.0.shortcut.0', 'layer2.0.bn2', 'layer2.0.conv2', 'layer2.0.bn1', 'layer2.0.conv1', 'layer1.1', 'layer1', 'layer1.1.bn2', 'layer1.1.conv2', 'layer1.1.bn1', 'layer1.1.conv1', 'layer1.0', 'layer1.1.shortcut', 'layer1.0.bn2', 'layer1.0.conv2', 'layer1.0.bn1', 'layer1.0.conv1', 'layer1.0.shortcut', 'bn1', 'conv1'])\n"
          ],
          "name": "stdout"
        }
      ]
    },
    {
      "cell_type": "code",
      "metadata": {
        "id": "l5jDHZKB9Y_m",
        "colab_type": "code",
        "colab": {
          "base_uri": "https://localhost:8080/",
          "height": 266
        },
        "outputId": "98c52289-2857-477c-f63e-8ba3359b8d97"
      },
      "source": [
        "#Actual Image\n",
        "img=mpimg.imread('img1.png')\n",
        "imgplot = plt.imshow(img)\n",
        "plt.show()"
      ],
      "execution_count": 53,
      "outputs": [
        {
          "output_type": "display_data",
          "data": {
            "image/png": "[encoded data removed]",
            "text/plain": [
              "<Figure size 432x288 with 1 Axes>"
            ]
          },
          "metadata": {
            "tags": []
          }
        }
      ]
    },
    {
      "cell_type": "code",
      "metadata": {
        "id": "ktg5DH1ywsC_",
        "colab_type": "code",
        "colab": {
          "base_uri": "https://localhost:8080/",
          "height": 266
        },
        "outputId": "efd13012-2618-43e6-8cbe-613841c8a010"
      },
      "source": [
        "img=mpimg.imread('0-resnet18-gradcam-layer4.1.shortcut.png')\n",
        "imgplot = plt.imshow(img)\n",
        "plt.show()"
      ],
      "execution_count": 54,
      "outputs": [
        {
          "output_type": "display_data",
          "data": {
            "image/png": "[encoded data removed]",
            "text/plain": [
              "<Figure size 432x288 with 1 Axes>"
            ]
          },
          "metadata": {
            "tags": []
          }
        }
      ]
    },
    {
      "cell_type": "code",
      "metadata": {
        "id": "1nc9934T8Tyn",
        "colab_type": "code",
        "colab": {}
      },
      "source": [
        ""
      ],
      "execution_count": 0,
      "outputs": []
    }
  ]
}